{
 "cells": [
  {
   "cell_type": "code",
   "execution_count": 14,
   "metadata": {
    "vscode": {
     "languageId": "r"
    }
   },
   "outputs": [],
   "source": [
    "\n",
    "#install.packages(\"httpgd\")"
   ]
  },
  {
   "cell_type": "code",
   "execution_count": 15,
   "metadata": {
    "vscode": {
     "languageId": "r"
    }
   },
   "outputs": [],
   "source": [
    "library(tidyverse)\n",
    "library(xts)\n",
    "library(zoo)\n",
    "library(svglite)\n",
    "library(TSstudio)\n",
    "library(zoo)\n",
    "library(dlm)\n",
    "library(forecast)\n",
    "library(expsmooth)\n",
    "library(ggplot2)\n",
    "library(ggfortify)\n",
    "library(changepoint)\n",
    "library(KFAS)\n",
    "library(httpgd)\n",
    "\n",
    "# Time series plots\n",
    "# https://cran.rstudio.com/web/packages/ggfortify/vignettes/plot_ts.html"
   ]
  },
  {
   "cell_type": "code",
   "execution_count": 16,
   "metadata": {
    "vscode": {
     "languageId": "r"
    }
   },
   "outputs": [
    {
     "data": {
      "text/html": [
       "<table class=\"dataframe\">\n",
       "<caption>A Time Series: 25 × 12</caption>\n",
       "<thead>\n",
       "\t<tr><th></th><th scope=col>Jan</th><th scope=col>Feb</th><th scope=col>Mar</th><th scope=col>Apr</th><th scope=col>May</th><th scope=col>Jun</th><th scope=col>Jul</th><th scope=col>Aug</th><th scope=col>Sep</th><th scope=col>Oct</th><th scope=col>Nov</th><th scope=col>Dec</th></tr>\n",
       "</thead>\n",
       "<tbody>\n",
       "\t<tr><th scope=row>2000</th><td> 79.0</td><td> 80.3</td><td> 87.3</td><td> 80.9</td><td> 81.7</td><td> 82.5</td><td> 85.2</td><td> 77.2</td><td> 80.5</td><td> 91.6</td><td> 95.2</td><td>104.9</td></tr>\n",
       "\t<tr><th scope=row>2001</th><td> 86.6</td><td> 82.2</td><td> 95.2</td><td> 86.9</td><td> 91.1</td><td> 90.4</td><td> 88.5</td><td> 81.9</td><td> 85.1</td><td>105.3</td><td>102.1</td><td>106.5</td></tr>\n",
       "\t<tr><th scope=row>2002</th><td> 91.7</td><td> 86.5</td><td> 91.8</td><td> 87.8</td><td> 91.3</td><td> 86.6</td><td> 90.2</td><td> 80.4</td><td> 80.8</td><td> 97.2</td><td> 96.2</td><td>100.1</td></tr>\n",
       "\t<tr><th scope=row>2003</th><td> 91.0</td><td> 84.6</td><td> 87.4</td><td> 84.9</td><td> 86.1</td><td> 77.9</td><td> 83.4</td><td> 71.7</td><td> 79.3</td><td> 92.2</td><td> 85.6</td><td> 96.6</td></tr>\n",
       "\t<tr><th scope=row>2004</th><td> 87.1</td><td> 78.9</td><td> 89.1</td><td> 80.7</td><td> 78.9</td><td> 80.1</td><td> 84.4</td><td> 70.7</td><td> 79.1</td><td> 87.7</td><td> 86.7</td><td> 95.9</td></tr>\n",
       "\t<tr><th scope=row>2005</th><td> 83.1</td><td> 78.0</td><td> 86.3</td><td> 80.1</td><td> 78.6</td><td> 79.3</td><td> 82.5</td><td> 76.0</td><td> 80.7</td><td> 91.1</td><td> 92.2</td><td>101.3</td></tr>\n",
       "\t<tr><th scope=row>2006</th><td> 90.4</td><td> 83.1</td><td> 96.3</td><td> 86.4</td><td> 90.5</td><td> 87.8</td><td> 78.9</td><td> 88.6</td><td> 86.3</td><td> 96.4</td><td> 96.5</td><td>102.9</td></tr>\n",
       "\t<tr><th scope=row>2007</th><td> 95.7</td><td> 87.5</td><td> 98.5</td><td> 84.5</td><td> 93.4</td><td> 92.3</td><td> 92.9</td><td> 88.9</td><td> 89.5</td><td>101.0</td><td> 99.0</td><td>103.5</td></tr>\n",
       "\t<tr><th scope=row>2008</th><td> 96.3</td><td> 90.8</td><td> 96.6</td><td> 94.6</td><td> 92.3</td><td> 88.9</td><td> 95.9</td><td> 89.2</td><td> 88.3</td><td>101.7</td><td> 93.2</td><td> 99.1</td></tr>\n",
       "\t<tr><th scope=row>2009</th><td> 91.5</td><td> 83.7</td><td> 89.4</td><td> 84.4</td><td> 83.6</td><td> 82.1</td><td> 88.7</td><td> 77.3</td><td> 81.3</td><td> 94.4</td><td> 86.1</td><td> 94.6</td></tr>\n",
       "\t<tr><th scope=row>2010</th><td> 83.5</td><td> 78.5</td><td> 88.0</td><td> 80.8</td><td> 82.3</td><td> 77.0</td><td> 82.4</td><td> 80.7</td><td> 79.7</td><td> 88.6</td><td> 84.1</td><td> 89.3</td></tr>\n",
       "\t<tr><th scope=row>2011</th><td> 83.8</td><td> 77.2</td><td> 83.8</td><td> 77.9</td><td> 77.6</td><td> 76.2</td><td> 82.6</td><td> 79.7</td><td> 76.2</td><td> 82.8</td><td> 79.6</td><td> 88.2</td></tr>\n",
       "\t<tr><th scope=row>2012</th><td> 81.3</td><td> 71.2</td><td> 78.7</td><td> 71.3</td><td> 74.0</td><td> 73.3</td><td> 74.2</td><td> 70.7</td><td> 73.0</td><td> 76.4</td><td> 72.6</td><td> 75.4</td></tr>\n",
       "\t<tr><th scope=row>2013</th><td> 74.0</td><td> 66.4</td><td> 71.5</td><td> 67.7</td><td> 70.7</td><td> 65.7</td><td> 67.1</td><td> 69.3</td><td> 63.8</td><td> 74.2</td><td> 69.8</td><td> 74.1</td></tr>\n",
       "\t<tr><th scope=row>2014</th><td> 74.1</td><td> 65.5</td><td> 69.1</td><td> 66.3</td><td> 69.6</td><td> 62.3</td><td> 67.6</td><td> 72.5</td><td> 64.4</td><td> 76.1</td><td> 73.0</td><td> 77.9</td></tr>\n",
       "\t<tr><th scope=row>2015</th><td> 76.9</td><td> 68.4</td><td> 75.1</td><td> 71.5</td><td> 73.5</td><td> 70.2</td><td> 75.7</td><td> 70.5</td><td> 71.2</td><td> 81.1</td><td> 74.6</td><td> 82.7</td></tr>\n",
       "\t<tr><th scope=row>2016</th><td> 76.6</td><td> 73.4</td><td> 80.5</td><td> 77.3</td><td> 75.9</td><td> 77.9</td><td> 76.5</td><td> 78.1</td><td> 72.9</td><td> 85.1</td><td> 81.9</td><td> 89.5</td></tr>\n",
       "\t<tr><th scope=row>2017</th><td> 84.5</td><td> 76.4</td><td> 87.3</td><td> 81.5</td><td> 83.3</td><td> 81.3</td><td> 85.9</td><td> 85.1</td><td> 83.1</td><td> 90.3</td><td> 90.6</td><td> 92.2</td></tr>\n",
       "\t<tr><th scope=row>2018</th><td> 88.8</td><td> 80.1</td><td> 93.9</td><td> 83.8</td><td> 85.5</td><td> 83.0</td><td> 82.3</td><td> 85.4</td><td> 81.7</td><td> 92.7</td><td> 93.8</td><td> 94.5</td></tr>\n",
       "\t<tr><th scope=row>2019</th><td> 91.7</td><td> 85.7</td><td> 96.4</td><td> 91.7</td><td> 96.5</td><td> 87.3</td><td> 92.4</td><td> 93.0</td><td> 86.5</td><td>101.4</td><td> 97.8</td><td>100.4</td></tr>\n",
       "\t<tr><th scope=row>2020</th><td> 95.2</td><td> 93.5</td><td> 88.7</td><td> 86.2</td><td>102.8</td><td>111.4</td><td>114.0</td><td>100.6</td><td>105.2</td><td>113.2</td><td>106.5</td><td> 92.4</td></tr>\n",
       "\t<tr><th scope=row>2021</th><td> 57.1</td><td> 65.1</td><td> 97.3</td><td> 96.8</td><td>118.1</td><td>114.3</td><td>114.3</td><td>106.2</td><td>102.2</td><td>112.0</td><td>112.3</td><td>104.4</td></tr>\n",
       "\t<tr><th scope=row>2022</th><td> 90.6</td><td> 97.4</td><td>112.2</td><td>106.3</td><td>108.8</td><td>106.3</td><td>104.3</td><td> 97.9</td><td>104.0</td><td>109.7</td><td>112.0</td><td>116.3</td></tr>\n",
       "\t<tr><th scope=row>2023</th><td>110.2</td><td>101.5</td><td>118.4</td><td>107.2</td><td>111.9</td><td>109.2</td><td>107.6</td><td>103.5</td><td>100.4</td><td>111.5</td><td>111.8</td><td>111.8</td></tr>\n",
       "\t<tr><th scope=row>2024</th><td>102.3</td><td> 99.8</td><td>107.2</td><td>100.5</td><td>102.9</td><td>100.2</td><td>100.0</td><td> 95.8</td><td>     </td><td>     </td><td>     </td><td>     </td></tr>\n",
       "</tbody>\n",
       "</table>\n"
      ],
      "text/latex": [
       "A Time Series: 25 × 12\n",
       "\\begin{tabular}{r|llllllllllll}\n",
       "  & Jan & Feb & Mar & Apr & May & Jun & Jul & Aug & Sep & Oct & Nov & Dec\\\\\n",
       "\\hline\n",
       "\t2000 &  79.0 &  80.3 &  87.3 &  80.9 &  81.7 &  82.5 &  85.2 &  77.2 &  80.5 &  91.6 &  95.2 & 104.9\\\\\n",
       "\t2001 &  86.6 &  82.2 &  95.2 &  86.9 &  91.1 &  90.4 &  88.5 &  81.9 &  85.1 & 105.3 & 102.1 & 106.5\\\\\n",
       "\t2002 &  91.7 &  86.5 &  91.8 &  87.8 &  91.3 &  86.6 &  90.2 &  80.4 &  80.8 &  97.2 &  96.2 & 100.1\\\\\n",
       "\t2003 &  91.0 &  84.6 &  87.4 &  84.9 &  86.1 &  77.9 &  83.4 &  71.7 &  79.3 &  92.2 &  85.6 &  96.6\\\\\n",
       "\t2004 &  87.1 &  78.9 &  89.1 &  80.7 &  78.9 &  80.1 &  84.4 &  70.7 &  79.1 &  87.7 &  86.7 &  95.9\\\\\n",
       "\t2005 &  83.1 &  78.0 &  86.3 &  80.1 &  78.6 &  79.3 &  82.5 &  76.0 &  80.7 &  91.1 &  92.2 & 101.3\\\\\n",
       "\t2006 &  90.4 &  83.1 &  96.3 &  86.4 &  90.5 &  87.8 &  78.9 &  88.6 &  86.3 &  96.4 &  96.5 & 102.9\\\\\n",
       "\t2007 &  95.7 &  87.5 &  98.5 &  84.5 &  93.4 &  92.3 &  92.9 &  88.9 &  89.5 & 101.0 &  99.0 & 103.5\\\\\n",
       "\t2008 &  96.3 &  90.8 &  96.6 &  94.6 &  92.3 &  88.9 &  95.9 &  89.2 &  88.3 & 101.7 &  93.2 &  99.1\\\\\n",
       "\t2009 &  91.5 &  83.7 &  89.4 &  84.4 &  83.6 &  82.1 &  88.7 &  77.3 &  81.3 &  94.4 &  86.1 &  94.6\\\\\n",
       "\t2010 &  83.5 &  78.5 &  88.0 &  80.8 &  82.3 &  77.0 &  82.4 &  80.7 &  79.7 &  88.6 &  84.1 &  89.3\\\\\n",
       "\t2011 &  83.8 &  77.2 &  83.8 &  77.9 &  77.6 &  76.2 &  82.6 &  79.7 &  76.2 &  82.8 &  79.6 &  88.2\\\\\n",
       "\t2012 &  81.3 &  71.2 &  78.7 &  71.3 &  74.0 &  73.3 &  74.2 &  70.7 &  73.0 &  76.4 &  72.6 &  75.4\\\\\n",
       "\t2013 &  74.0 &  66.4 &  71.5 &  67.7 &  70.7 &  65.7 &  67.1 &  69.3 &  63.8 &  74.2 &  69.8 &  74.1\\\\\n",
       "\t2014 &  74.1 &  65.5 &  69.1 &  66.3 &  69.6 &  62.3 &  67.6 &  72.5 &  64.4 &  76.1 &  73.0 &  77.9\\\\\n",
       "\t2015 &  76.9 &  68.4 &  75.1 &  71.5 &  73.5 &  70.2 &  75.7 &  70.5 &  71.2 &  81.1 &  74.6 &  82.7\\\\\n",
       "\t2016 &  76.6 &  73.4 &  80.5 &  77.3 &  75.9 &  77.9 &  76.5 &  78.1 &  72.9 &  85.1 &  81.9 &  89.5\\\\\n",
       "\t2017 &  84.5 &  76.4 &  87.3 &  81.5 &  83.3 &  81.3 &  85.9 &  85.1 &  83.1 &  90.3 &  90.6 &  92.2\\\\\n",
       "\t2018 &  88.8 &  80.1 &  93.9 &  83.8 &  85.5 &  83.0 &  82.3 &  85.4 &  81.7 &  92.7 &  93.8 &  94.5\\\\\n",
       "\t2019 &  91.7 &  85.7 &  96.4 &  91.7 &  96.5 &  87.3 &  92.4 &  93.0 &  86.5 & 101.4 &  97.8 & 100.4\\\\\n",
       "\t2020 &  95.2 &  93.5 &  88.7 &  86.2 & 102.8 & 111.4 & 114.0 & 100.6 & 105.2 & 113.2 & 106.5 &  92.4\\\\\n",
       "\t2021 &  57.1 &  65.1 &  97.3 &  96.8 & 118.1 & 114.3 & 114.3 & 106.2 & 102.2 & 112.0 & 112.3 & 104.4\\\\\n",
       "\t2022 &  90.6 &  97.4 & 112.2 & 106.3 & 108.8 & 106.3 & 104.3 &  97.9 & 104.0 & 109.7 & 112.0 & 116.3\\\\\n",
       "\t2023 & 110.2 & 101.5 & 118.4 & 107.2 & 111.9 & 109.2 & 107.6 & 103.5 & 100.4 & 111.5 & 111.8 & 111.8\\\\\n",
       "\t2024 & 102.3 &  99.8 & 107.2 & 100.5 & 102.9 & 100.2 & 100.0 &  95.8 &       &       &       &      \\\\\n",
       "\\end{tabular}\n"
      ],
      "text/markdown": [
       "\n",
       "A Time Series: 25 × 12\n",
       "\n",
       "| <!--/--> | Jan | Feb | Mar | Apr | May | Jun | Jul | Aug | Sep | Oct | Nov | Dec |\n",
       "|---|---|---|---|---|---|---|---|---|---|---|---|---|\n",
       "| 2000 |  79.0 |  80.3 |  87.3 |  80.9 |  81.7 |  82.5 |  85.2 |  77.2 |  80.5 |  91.6 |  95.2 | 104.9 |\n",
       "| 2001 |  86.6 |  82.2 |  95.2 |  86.9 |  91.1 |  90.4 |  88.5 |  81.9 |  85.1 | 105.3 | 102.1 | 106.5 |\n",
       "| 2002 |  91.7 |  86.5 |  91.8 |  87.8 |  91.3 |  86.6 |  90.2 |  80.4 |  80.8 |  97.2 |  96.2 | 100.1 |\n",
       "| 2003 |  91.0 |  84.6 |  87.4 |  84.9 |  86.1 |  77.9 |  83.4 |  71.7 |  79.3 |  92.2 |  85.6 |  96.6 |\n",
       "| 2004 |  87.1 |  78.9 |  89.1 |  80.7 |  78.9 |  80.1 |  84.4 |  70.7 |  79.1 |  87.7 |  86.7 |  95.9 |\n",
       "| 2005 |  83.1 |  78.0 |  86.3 |  80.1 |  78.6 |  79.3 |  82.5 |  76.0 |  80.7 |  91.1 |  92.2 | 101.3 |\n",
       "| 2006 |  90.4 |  83.1 |  96.3 |  86.4 |  90.5 |  87.8 |  78.9 |  88.6 |  86.3 |  96.4 |  96.5 | 102.9 |\n",
       "| 2007 |  95.7 |  87.5 |  98.5 |  84.5 |  93.4 |  92.3 |  92.9 |  88.9 |  89.5 | 101.0 |  99.0 | 103.5 |\n",
       "| 2008 |  96.3 |  90.8 |  96.6 |  94.6 |  92.3 |  88.9 |  95.9 |  89.2 |  88.3 | 101.7 |  93.2 |  99.1 |\n",
       "| 2009 |  91.5 |  83.7 |  89.4 |  84.4 |  83.6 |  82.1 |  88.7 |  77.3 |  81.3 |  94.4 |  86.1 |  94.6 |\n",
       "| 2010 |  83.5 |  78.5 |  88.0 |  80.8 |  82.3 |  77.0 |  82.4 |  80.7 |  79.7 |  88.6 |  84.1 |  89.3 |\n",
       "| 2011 |  83.8 |  77.2 |  83.8 |  77.9 |  77.6 |  76.2 |  82.6 |  79.7 |  76.2 |  82.8 |  79.6 |  88.2 |\n",
       "| 2012 |  81.3 |  71.2 |  78.7 |  71.3 |  74.0 |  73.3 |  74.2 |  70.7 |  73.0 |  76.4 |  72.6 |  75.4 |\n",
       "| 2013 |  74.0 |  66.4 |  71.5 |  67.7 |  70.7 |  65.7 |  67.1 |  69.3 |  63.8 |  74.2 |  69.8 |  74.1 |\n",
       "| 2014 |  74.1 |  65.5 |  69.1 |  66.3 |  69.6 |  62.3 |  67.6 |  72.5 |  64.4 |  76.1 |  73.0 |  77.9 |\n",
       "| 2015 |  76.9 |  68.4 |  75.1 |  71.5 |  73.5 |  70.2 |  75.7 |  70.5 |  71.2 |  81.1 |  74.6 |  82.7 |\n",
       "| 2016 |  76.6 |  73.4 |  80.5 |  77.3 |  75.9 |  77.9 |  76.5 |  78.1 |  72.9 |  85.1 |  81.9 |  89.5 |\n",
       "| 2017 |  84.5 |  76.4 |  87.3 |  81.5 |  83.3 |  81.3 |  85.9 |  85.1 |  83.1 |  90.3 |  90.6 |  92.2 |\n",
       "| 2018 |  88.8 |  80.1 |  93.9 |  83.8 |  85.5 |  83.0 |  82.3 |  85.4 |  81.7 |  92.7 |  93.8 |  94.5 |\n",
       "| 2019 |  91.7 |  85.7 |  96.4 |  91.7 |  96.5 |  87.3 |  92.4 |  93.0 |  86.5 | 101.4 |  97.8 | 100.4 |\n",
       "| 2020 |  95.2 |  93.5 |  88.7 |  86.2 | 102.8 | 111.4 | 114.0 | 100.6 | 105.2 | 113.2 | 106.5 |  92.4 |\n",
       "| 2021 |  57.1 |  65.1 |  97.3 |  96.8 | 118.1 | 114.3 | 114.3 | 106.2 | 102.2 | 112.0 | 112.3 | 104.4 |\n",
       "| 2022 |  90.6 |  97.4 | 112.2 | 106.3 | 108.8 | 106.3 | 104.3 |  97.9 | 104.0 | 109.7 | 112.0 | 116.3 |\n",
       "| 2023 | 110.2 | 101.5 | 118.4 | 107.2 | 111.9 | 109.2 | 107.6 | 103.5 | 100.4 | 111.5 | 111.8 | 111.8 |\n",
       "| 2024 | 102.3 |  99.8 | 107.2 | 100.5 | 102.9 | 100.2 | 100.0 |  95.8 | <!----> | <!----> | <!----> | <!----> |\n",
       "\n"
      ],
      "text/plain": [
       "     Jan   Feb   Mar   Apr   May   Jun   Jul   Aug   Sep   Oct   Nov   Dec  \n",
       "2000  79.0  80.3  87.3  80.9  81.7  82.5  85.2  77.2  80.5  91.6  95.2 104.9\n",
       "2001  86.6  82.2  95.2  86.9  91.1  90.4  88.5  81.9  85.1 105.3 102.1 106.5\n",
       "2002  91.7  86.5  91.8  87.8  91.3  86.6  90.2  80.4  80.8  97.2  96.2 100.1\n",
       "2003  91.0  84.6  87.4  84.9  86.1  77.9  83.4  71.7  79.3  92.2  85.6  96.6\n",
       "2004  87.1  78.9  89.1  80.7  78.9  80.1  84.4  70.7  79.1  87.7  86.7  95.9\n",
       "2005  83.1  78.0  86.3  80.1  78.6  79.3  82.5  76.0  80.7  91.1  92.2 101.3\n",
       "2006  90.4  83.1  96.3  86.4  90.5  87.8  78.9  88.6  86.3  96.4  96.5 102.9\n",
       "2007  95.7  87.5  98.5  84.5  93.4  92.3  92.9  88.9  89.5 101.0  99.0 103.5\n",
       "2008  96.3  90.8  96.6  94.6  92.3  88.9  95.9  89.2  88.3 101.7  93.2  99.1\n",
       "2009  91.5  83.7  89.4  84.4  83.6  82.1  88.7  77.3  81.3  94.4  86.1  94.6\n",
       "2010  83.5  78.5  88.0  80.8  82.3  77.0  82.4  80.7  79.7  88.6  84.1  89.3\n",
       "2011  83.8  77.2  83.8  77.9  77.6  76.2  82.6  79.7  76.2  82.8  79.6  88.2\n",
       "2012  81.3  71.2  78.7  71.3  74.0  73.3  74.2  70.7  73.0  76.4  72.6  75.4\n",
       "2013  74.0  66.4  71.5  67.7  70.7  65.7  67.1  69.3  63.8  74.2  69.8  74.1\n",
       "2014  74.1  65.5  69.1  66.3  69.6  62.3  67.6  72.5  64.4  76.1  73.0  77.9\n",
       "2015  76.9  68.4  75.1  71.5  73.5  70.2  75.7  70.5  71.2  81.1  74.6  82.7\n",
       "2016  76.6  73.4  80.5  77.3  75.9  77.9  76.5  78.1  72.9  85.1  81.9  89.5\n",
       "2017  84.5  76.4  87.3  81.5  83.3  81.3  85.9  85.1  83.1  90.3  90.6  92.2\n",
       "2018  88.8  80.1  93.9  83.8  85.5  83.0  82.3  85.4  81.7  92.7  93.8  94.5\n",
       "2019  91.7  85.7  96.4  91.7  96.5  87.3  92.4  93.0  86.5 101.4  97.8 100.4\n",
       "2020  95.2  93.5  88.7  86.2 102.8 111.4 114.0 100.6 105.2 113.2 106.5  92.4\n",
       "2021  57.1  65.1  97.3  96.8 118.1 114.3 114.3 106.2 102.2 112.0 112.3 104.4\n",
       "2022  90.6  97.4 112.2 106.3 108.8 106.3 104.3  97.9 104.0 109.7 112.0 116.3\n",
       "2023 110.2 101.5 118.4 107.2 111.9 109.2 107.6 103.5 100.4 111.5 111.8 111.8\n",
       "2024 102.3  99.8 107.2 100.5 102.9 100.2 100.0  95.8                        "
      ]
     },
     "metadata": {},
     "output_type": "display_data"
    },
    {
     "data": {
      "image/png": "[encoded data removed]",
      "text/plain": [
       "plot without title"
      ]
     },
     "metadata": {
      "image/png": {
       "height": 420,
       "width": 420
      }
     },
     "output_type": "display_data"
    }
   ],
   "source": [
    "##########################\n",
    "# First smooth, if data is missing from the original \"y\" series, replace it\n",
    "# Only take values from 2005 Q1 to 2024Q1\n",
    "\n",
    "# load data\n",
    "dt1 <- read.csv(\"../data/HandelDiensten_raw.csv\", sep = \",\")\n",
    "series1 <- ts(dt1[\"Winkels.in.meubels..woninginrichting.alg\"], frequency = 12, start=c(2000,1))\n",
    "\n",
    "plot.ts(series1)\n",
    "series1"
   ]
  },
  {
   "cell_type": "code",
   "execution_count": 17,
   "metadata": {
    "vscode": {
     "languageId": "r"
    }
   },
   "outputs": [
    {
     "data": {
      "image/png": "[encoded data removed]",
      "text/plain": [
       "plot without title"
      ]
     },
     "metadata": {
      "image/png": {
       "height": 420,
       "width": 420
      }
     },
     "output_type": "display_data"
    },
    {
     "data": {
      "image/png": "[encoded data removed]",
      "text/plain": [
       "Plot with title \"Forecasts from ETS(A,N,A)\""
      ]
     },
     "metadata": {
      "image/png": {
       "height": 420,
       "width": 420
      }
     },
     "output_type": "display_data"
    }
   ],
   "source": [
    "plot(series1)\n",
    "#ets(bonds, model=\"AAN\", damped=TRUE)\n",
    "#ets(usnetelec, model=\"MMN\",damped=TRUE)\n",
    "#ets(ukcars, model=\"ANA\")\n",
    "#ets(visitors, model=\"MAM\")\n",
    "\n",
    "fit <- ets(series1, model=\"ANA\", damped=FALSE)\n",
    "plot(forecast(fit))"
   ]
  },
  {
   "cell_type": "code",
   "execution_count": 19,
   "metadata": {
    "vscode": {
     "languageId": "r"
    }
   },
   "outputs": [
    {
     "data": {
      "text/plain": [
       "         Point Forecast    Lo 80    Hi 80    Lo 95    Hi 95\n",
       "Sep 2024       96.10789 89.68562 102.5302 86.28588 105.9299\n",
       "Oct 2024      107.17511 99.45034 114.8999 95.36109 118.9891\n",
       "Nov 2024      104.61236 95.77500 113.4497 91.09678 118.1279\n",
       "Dec 2024      109.22961 99.40487 119.0544 94.20396 124.2553\n",
       "Jan 2025       99.91416 89.19258 110.6357 83.51692 116.3114\n",
       "Feb 2025       94.28109 82.73211 105.8301 76.61845 111.9437\n",
       "Mar 2025      103.58050 91.25956 115.9014 84.73724 122.4238\n",
       "Apr 2025       97.55419 84.50688 110.6015 77.60005 117.5083\n",
       "May 2025      100.99249 87.25717 114.7278 79.98613 121.9989\n",
       "Jun 2025       98.51803 84.12755 112.9085 76.50970 120.5264\n",
       "Jul 2025      100.53118 85.51411 115.5483 77.56455 123.4978\n",
       "Aug 2025       95.93469 80.31219 111.5572 72.04214 119.8272\n",
       "Sep 2025       96.10789 79.90637 112.3094 71.32981 120.8860\n",
       "Oct 2025      107.17511 90.41457 123.9357 81.54208 132.8082\n",
       "Nov 2025      104.61236 87.31084 121.9139 78.15197 131.0727\n",
       "Dec 2025      109.22961 91.40353 127.0557 81.96697 136.4923\n",
       "Jan 2026       99.91416 81.57852 118.2498 71.87221 127.9561\n",
       "Feb 2026       94.28109 75.44967 113.1125 65.48091 123.0813\n",
       "Mar 2026      103.58050 84.26602 122.8950 74.04155 133.1195\n",
       "Apr 2026       97.55419 77.76844 117.3399 67.29450 127.8139\n",
       "May 2026      100.99249 80.74644 121.2385 70.02882 131.9562\n",
       "Jun 2026       98.51803 77.82191 119.2142 66.86605 130.1700\n",
       "Jul 2026      100.53118 79.39458 121.6678 68.20554 132.8568\n",
       "Aug 2026       95.93469 74.36373 117.5056 62.94476 128.9246"
      ]
     },
     "metadata": {},
     "output_type": "display_data"
    }
   ],
   "source": [
    "forecast(fit)"
   ]
  },
  {
   "cell_type": "code",
   "execution_count": 4,
   "metadata": {
    "vscode": {
     "languageId": "r"
    }
   },
   "outputs": [
    {
     "data": {
      "image/png": "[encoded data removed]",
      "text/plain": [
       "plot without title"
      ]
     },
     "metadata": {
      "image/png": {
       "height": 420,
       "width": 420
      }
     },
     "output_type": "display_data"
    },
    {
     "data": {
      "image/png": "[encoded data removed]",
      "text/plain": [
       "plot without title"
      ]
     },
     "metadata": {
      "image/png": {
       "height": 420,
       "width": 420
      }
     },
     "output_type": "display_data"
    }
   ],
   "source": [
    "d.arima <- auto.arima(series1)\n",
    "d.forecast <- forecast(d.arima, level = c(95), h = 5)\n",
    "autoplot(d.forecast)\n",
    "\n",
    "autoplot(d.forecast, ts.colour = 'firebrick1', predict.colour = 'red',\n",
    "predict.linetype = 'dashed', conf.int = FALSE)"
   ]
  },
  {
   "cell_type": "code",
   "execution_count": 5,
   "metadata": {
    "vscode": {
     "languageId": "r"
    }
   },
   "outputs": [
    {
     "data": {
      "image/png": "[encoded data removed]",
      "text/plain": [
       "plot without title"
      ]
     },
     "metadata": {
      "image/png": {
       "height": 420,
       "width": 420
      }
     },
     "output_type": "display_data"
    }
   ],
   "source": [
    "model <- SSModel(series1 ~ SSMtrend(degree=1, Q=matrix(NA)), H=matrix(NA))\n",
    " \n",
    "fit <- fitSSM(model=model, inits=c(log(var(series1)),log(var(series1))), method=\"BFGS\")\n",
    "smoothed <- KFS(fit$model)\n",
    "autoplot(smoothed)"
   ]
  },
  {
   "cell_type": "code",
   "execution_count": 6,
   "metadata": {
    "vscode": {
     "languageId": "r"
    }
   },
   "outputs": [
    {
     "data": {
      "image/png": "[encoded data removed]",
      "text/plain": [
       "plot without title"
      ]
     },
     "metadata": {
      "image/png": {
       "height": 420,
       "width": 420
      }
     },
     "output_type": "display_data"
    }
   ],
   "source": [
    "filtered <- KFS(fit$model, filtering=\"mean\", smoothing='none')\n",
    "autoplot(filtered)"
   ]
  },
  {
   "cell_type": "code",
   "execution_count": 8,
   "metadata": {
    "vscode": {
     "languageId": "r"
    }
   },
   "outputs": [
    {
     "data": {
      "text/html": [
       "'list'"
      ],
      "text/latex": [
       "'list'"
      ],
      "text/markdown": [
       "'list'"
      ],
      "text/plain": [
       "[1] \"list\""
      ]
     },
     "metadata": {},
     "output_type": "display_data"
    }
   ],
   "source": [
    "trend <- signal(smoothed, states=\"trend\")\n",
    "class(trend)"
   ]
  },
  {
   "cell_type": "code",
   "execution_count": 9,
   "metadata": {
    "vscode": {
     "languageId": "r"
    }
   },
   "outputs": [
    {
     "data": {
      "image/png": "[encoded data removed]",
      "text/plain": [
       "plot without title"
      ]
     },
     "metadata": {
      "image/png": {
       "height": 420,
       "width": 420
      }
     },
     "output_type": "display_data"
    }
   ],
   "source": [
    "p <- autoplot(filtered)\n",
    "autoplot(trend, ts.colour = 'blue', p = p)"
   ]
  },
  {
   "cell_type": "code",
   "execution_count": 10,
   "metadata": {
    "vscode": {
     "languageId": "r"
    }
   },
   "outputs": [
    {
     "data": {
      "image/png": "[encoded data removed]",
      "text/plain": [
       "plot without title"
      ]
     },
     "metadata": {
      "image/png": {
       "height": 420,
       "width": 420
      }
     },
     "output_type": "display_data"
    }
   ],
   "source": [
    "autoplot(acf(series1, plot = FALSE))"
   ]
  },
  {
   "cell_type": "code",
   "execution_count": 11,
   "metadata": {
    "vscode": {
     "languageId": "r"
    }
   },
   "outputs": [
    {
     "data": {
      "image/png": "[encoded data removed]",
      "text/plain": [
       "plot without title"
      ]
     },
     "metadata": {
      "image/png": {
       "height": 420,
       "width": 420
      }
     },
     "output_type": "display_data"
    }
   ],
   "source": [
    "ggtsdiag(auto.arima(series1))"
   ]
  },
  {
   "cell_type": "code",
   "execution_count": 12,
   "metadata": {
    "vscode": {
     "languageId": "r"
    }
   },
   "outputs": [
    {
     "data": {
      "image/png": "[encoded data removed]",
      "text/plain": [
       "plot without title"
      ]
     },
     "metadata": {
      "image/png": {
       "height": 420,
       "width": 420
      }
     },
     "output_type": "display_data"
    }
   ],
   "source": [
    "autoplot(spec.ar(series1, plot = FALSE))"
   ]
  },
  {
   "cell_type": "code",
   "execution_count": 10,
   "metadata": {
    "vscode": {
     "languageId": "r"
    }
   },
   "outputs": [],
   "source": [
    "ts2csv <- function(x) {\n",
    "  fname <- paste0(deparse(substitute(x)), \".csv\")\n",
    "  readr::write_csv(tsibble::as_tsibble(x, gather(FALSE)), fname)\n",
    "}"
   ]
  },
  {
   "cell_type": "code",
   "execution_count": 11,
   "metadata": {
    "vscode": {
     "languageId": "r"
    }
   },
   "outputs": [],
   "source": [
    "ts2csv(series1)"
   ]
  },
  {
   "cell_type": "code",
   "execution_count": null,
   "metadata": {
    "vscode": {
     "languageId": "r"
    }
   },
   "outputs": [],
   "source": []
  },
  {
   "cell_type": "code",
   "execution_count": null,
   "metadata": {
    "vscode": {
     "languageId": "r"
    }
   },
   "outputs": [],
   "source": []
  },
  {
   "cell_type": "code",
   "execution_count": 13,
   "metadata": {
    "vscode": {
     "languageId": "r"
    }
   },
   "outputs": [],
   "source": [
    "\n",
    "##### Start at 2005-01-01, replace missing values with best guess\n",
    "dt2 <- dt1[-c(1:20), -c(1)]\n",
    "\n",
    "# number columns\n",
    "numColumns <- dim(dt2)[2]\n",
    "numRows <- dim(dt2[1])\n",
    "colNames <- colnames(dt2)\n",
    "\n",
    "emptyDF = data.frame(matrix(NA, nrow = numRows, ncol = numColumns))\n",
    "colnames(emptyDF) <- colnames(dt2)"
   ]
  },
  {
   "cell_type": "code",
   "execution_count": 14,
   "metadata": {
    "vscode": {
     "languageId": "r"
    }
   },
   "outputs": [
    {
     "name": "stdout",
     "output_type": "stream",
     "text": [
      "[1] 1\n",
      "[1] 2\n",
      "[1] 3\n",
      "[1] 4\n",
      "[1] 5\n",
      "[1] 6\n",
      "[1] 7\n",
      "[1] 8\n",
      "[1] 9\n",
      "[1] 10\n",
      "[1] 11\n",
      "[1] 12\n",
      "[1] 13\n",
      "[1] 14\n",
      "[1] 15\n",
      "[1] 16\n",
      "[1] 17\n",
      "[1] 18\n",
      "[1] 19\n",
      "[1] 20\n",
      "[1] 21\n",
      "[1] 22\n",
      "[1] 23\n",
      "[1] 24\n",
      "[1] 25\n",
      "[1] 26\n",
      "[1] 27\n",
      "[1] 28\n",
      "[1] 29\n",
      "[1] 30\n",
      "[1] 31\n",
      "[1] 32\n",
      "[1] 33\n",
      "[1] 34\n",
      "[1] 35\n",
      "[1] 36\n",
      "[1] 37\n",
      "[1] 38\n",
      "[1] 39\n",
      "[1] 40\n",
      "[1] 41\n",
      "[1] 42\n",
      "[1] 43\n",
      "[1] 44\n",
      "[1] 45\n",
      "[1] 46\n",
      "[1] 47\n",
      "[1] 48\n",
      "[1] 49\n",
      "[1] 50\n",
      "[1] 51\n",
      "[1] 52\n",
      "[1] 53\n",
      "[1] 54\n",
      "[1] 55\n",
      "[1] 56\n",
      "[1] 57\n",
      "[1] 58\n",
      "[1] 59\n",
      "[1] 60\n",
      "[1] 61\n"
     ]
    },
    {
     "ename": "",
     "evalue": "",
     "output_type": "error",
     "traceback": [
      "\u001b[1;31mThe Kernel crashed while executing code in the current cell or a previous cell. \n",
      "\u001b[1;31mPlease review the code in the cell(s) to identify a possible cause of the failure. \n",
      "\u001b[1;31mClick <a href='https://aka.ms/vscodeJupyterKernelCrash'>here</a> for more info. \n",
      "\u001b[1;31mView Jupyter <a href='command:jupyter.viewOutput'>log</a> for further details."
     ]
    }
   ],
   "source": [
    "for (i in 1:numColumns) {\n",
    "    print(i)\n",
    "    y <- dt2[, i]\n",
    "\n",
    "    # ######################################\n",
    "    # # Kalman smoothing\n",
    "    # ######################################\n",
    "\n",
    "    # Setting of local-level model\n",
    "    W <- 1\n",
    "    V <- 2\n",
    "    m0 <- 10\n",
    "    C0 <- 9\n",
    "    mod <- dlmModPoly(order = 1, dW = W, dV = V, m0 = m0, C0 = C0)\n",
    "\n",
    "    dlmSmoothed_obj <- dlmSmooth(y = y, mod = mod)\n",
    "\n",
    "    # Find the mean and standard deviation of the smoothing distribution\n",
    "    s <- dropFirst(dlmSmoothed_obj$s)\n",
    "\n",
    "    # which of the original data is missing, for example, sector: 11_Drankenindustrie\n",
    "    replaceThese <- which(is.na(y))\n",
    "    y[replaceThese] <- s[replaceThese]\n",
    "\n",
    "    emptyDF[,i] <- y\n",
    "}    \n",
    "\n",
    "write.csv(emptyDF, \"tmp.csv\")\n"
   ]
  },
  {
   "cell_type": "code",
   "execution_count": null,
   "metadata": {
    "vscode": {
     "languageId": "r"
    }
   },
   "outputs": [
    {
     "name": "stdout",
     "output_type": "stream",
     "text": [
      "[1] \"X45.Autohandel.en..reparatie\"\n",
      "[1] \"X451.Autohandel.en..reparatie\"\n",
      "[1] \"X45111.Import.van.nieuwe.personenauto.s\"\n",
      "[1] \"X452.Gespecialiseerde.autoreparatie\"\n",
      "[1] \"X453.Handel.in.auto.onderdelen\"\n",
      "[1] \"X454.Handel.en.reparatie.van.motorfietsen\"\n",
      "[1] \"X46.Groothandel.en.handelsbemiddeling\"\n",
      "[1] \"X462.Groothandel.in.landbouwproducten\"\n",
      "[1] \"X463.Groothandel.in.voedingsmiddelen\"\n",
      "[1] \"X464.Groothandel.in.non.food\"\n",
      "[1] \"X466.Groothandel.in.industriemachines\"\n",
      "[1] \"X467.Overige.gespecialiseerde.groothandel\"\n",
      "[1] \"X47.Detailhandel..niet.in.auto.s.\"\n",
      "[1] \"X471.Supermarkten.en.warenhuizen\"\n",
      "[1] \"X4711.Supermarkten\"\n",
      "[1] \"X4711..472.Winkels.in.voedingsmiddelen\"\n",
      "[1] \"X472.Winkels.in.voedingsmiddelen\"\n",
      "[1] \"X474.Winkels.in.consumentenelektronica\"\n",
      "[1] \"X475.Winkels.in.overige.huishoudwaren\"\n",
      "[1] \"X4752.Winkels.in.doe.het.zelfartikelen\"\n",
      "[1] \"X47528.Bouwmarkten\"\n",
      "[1] \"X4759.Winkels.overige.huishoudartikelen\"\n",
      "[1] \"X476.Winkels.in.recreatieartikelen\"\n",
      "[1] \"X477.Winkels.in.overige.artikelen\"\n"
     ]
    }
   ],
   "source": [
    "######################################\n",
    "## Local-trend model\n",
    "######################################\n",
    "\n",
    "localTrend <- emptyDF\n",
    "\n",
    "## Seasonal model\n",
    "### Approach from the time domain\n",
    "### Approach from the frequency domain\n",
    "#### Local-trend model + seasonal model (time-domain approach)\n",
    "\n",
    "# Preprocessing\n",
    "library(dlm)\n",
    "\n",
    "####\n",
    "# Save forecasts\n",
    "####\n",
    "forecasts <- c()\n",
    "namesCols <- c()\n",
    "\n",
    "for (j in 0:18){\n",
    "  png(paste(\"../output/Kalman2/plot_\", j, \".png\", sep = \"\"))\n",
    "  par(mfrow = c(4, 1), mar = c(4, 1, 1, 4))\n",
    "\n",
    "  begin <- 1 + (j * 4)\n",
    "  end   <- 4 + (j * 4)\n",
    "\n",
    "  if (begin <= 70) {\n",
    "\n",
    "    for (i in begin:end){\n",
    "      print(colNames[i])      \n",
    "      mymain <- colNames[i]\n",
    "\n",
    "      # Data\n",
    "      y <- ts(na.omit(localTrend[, i]), frequency = 4, start = c(2005, 1))\n",
    "      # if (colNames[i] == \"X51_Vervoer_door_de_lucht\"){\n",
    "      #   print(y)\n",
    "      #   print(!is.na(as.numeric(y)))\n",
    "      # }\n",
    "\n",
    "      # Model setting: local-trend model + seasonal model (time-domain approach)\n",
    "      build_dlm_test <- function(par) {\n",
    "        return(\n",
    "          dlmModPoly(order = 2, dW = exp(par[1:2]), dV = exp(par[3])) +\n",
    "          dlmModSeas(frequency = 4, dW = c(exp(par[4]), rep(0, times = 2)), dV = 1)\n",
    "        )\n",
    "      }\n",
    "\n",
    "      # Maximum likelihood estimation of parameters and confirmation of the results\n",
    "      fit_dlm_test <- dlmMLE(y = y, parm = rep(0, 4), build = build_dlm_test)\n",
    "    \n",
    "      # Set the maximum likelihood estimates of parameters in the model\n",
    "      mod  <- build_dlm_test(fit_dlm_test$par)\n",
    "\n",
    "      # # Kalman filtering\n",
    "      dlmFiltered_obj  <- dlmFilter(y = y, mod = mod)\n",
    "      dlmFiltered_obja <- dlmFiltered_obj  # Save under a different name for later comparison of prediction values\n",
    "\n",
    "      ######################################\n",
    "      # Kalman prediction\n",
    "      ######################################\n",
    "\n",
    "      dlmForecasted_object <- dlmForecast(mod = dlmFiltered_obj, nAhead = 8)\n",
    "      forecasts[i] <- as.data.frame(dlmForecasted_object$f)\n",
    "\n",
    "      # Find the standard deviation and the 2.5% and 97.5% values of the prediction value\n",
    "      f_sd <- sqrt(as.numeric(dlmForecasted_object$Q))\n",
    "      f_lower <- dlmForecasted_object$f + qnorm(0.025, sd = f_sd)\n",
    "      f_upper <- dlmForecasted_object$f + qnorm(0.975, sd = f_sd)\n",
    "\n",
    "      # Unite the entire observation along with the mean, 2.5%, and 97.5% values of the prediction values into ts class object\n",
    "      y_union <- ts.union(y, dlmForecasted_object$f, f_lower, f_upper)\n",
    "\n",
    "      # Plot results\n",
    "      plot(y_union, plot.type = \"single\",\n",
    "          xlim = c(2005, 2026),\n",
    "          ylim = c(50,  240), ylab = \"Year-Quarter\", \n",
    "          lty = c(\"solid\", \"solid\", \"dashed\", \"dashed\"),\n",
    "          col = c(\"lightgray\", \"red\", \"black\", \"black\"),\n",
    "          main = mymain)\n",
    "\n",
    "      # Legend\n",
    "      legend(legend = c(\"Observations\", \"Mean (predictive distribution)\", \"95% intervals (predictive distribution)\"),\n",
    "            lty = c(\"solid\", \"solid\", \"dashed\"),\n",
    "            col = c(\"lightgray\", \"black\", \"black\"),\n",
    "            x = \"topleft\", cex = 0.6)\n",
    "\n",
    "      # Grid\n",
    "      grid(nx = NULL, ny = NULL,\n",
    "          lty = 2,      # Grid line type\n",
    "          col = \"gray\", # Grid line color\n",
    "          lwd = 1)      # Grid line width\n",
    "    }\n",
    "\n",
    "    dev.off()\n",
    "  \n",
    "  } else {\n",
    "\n",
    "    for (i in 71:75){\n",
    "\n",
    "      print(colNames[i])\n",
    "      if (length(na.omit(localTrend[, i])) < 20) next\n",
    "      mymain <- colNames[i]\n",
    "\n",
    "      # Data\n",
    "      y <- ts(na.omit(localTrend[, i]), frequency = 4, start = c(2005, 1))\n",
    "\n",
    "      # Model setting: local-trend model + seasonal model (time-domain approach)\n",
    "      build_dlm_test <- function(par) {\n",
    "        return(\n",
    "          dlmModPoly(order = 2, dW = exp(par[1:2]), dV = exp(par[3])) +\n",
    "          dlmModSeas(frequency = 4, dW = c(exp(par[4]), rep(0, times = 2)), dV = 0)\n",
    "        )\n",
    "      }\n",
    "\n",
    "      # Maximum likelihood estimation of parameters and confirmation of the results\n",
    "      fit_dlm_test <- dlmMLE(y = y, parm = rep(0, 4), build = build_dlm_test)\n",
    "      fit_dlm_test\n",
    "\n",
    "      # Set the maximum likelihood estimates of parameters in the model\n",
    "      mod  <- build_dlm_test(fit_dlm_test$par)\n",
    "\n",
    "      # # Kalman filtering\n",
    "      dlmFiltered_obj  <- dlmFilter(y = y, mod = mod)\n",
    "      dlmFiltered_obja <- dlmFiltered_obj  # Save under a different name for later comparison of prediction values\n",
    "\n",
    "      ######################################\n",
    "      # Kalman prediction\n",
    "      ######################################\n",
    "\n",
    "      dlmForecasted_object <- dlmForecast(mod = dlmFiltered_obj, nAhead = 4)\n",
    "      forecasts[i] <-  as.data.frame(dlmForecasted_object$f)\n",
    "\n",
    "      # Find the standard deviation and the 2.5% and 97.5% values of the prediction value\n",
    "      f_sd <- sqrt(as.numeric(dlmForecasted_object$Q))\n",
    "      f_lower <- dlmForecasted_object$f + qnorm(0.025, sd = f_sd)\n",
    "      f_upper <- dlmForecasted_object$f + qnorm(0.975, sd = f_sd)\n",
    "\n",
    "      # Unite the entire observation along with the mean, 2.5%, and 97.5% values of the prediction values into ts class object\n",
    "      y_union <- ts.union(y, dlmForecasted_object$f, f_lower, f_upper)\n",
    "\n",
    "      # Ignore the display of following codes\n",
    "\n",
    "      # Plot results\n",
    "      plot(y_union, plot.type = \"single\",\n",
    "          xlim = c(2005, 2026),\n",
    "          ylim = c(50,  240), ylab = \"Year-Quarter\", \n",
    "          lty = c(\"solid\", \"solid\", \"dashed\", \"dashed\"),\n",
    "          col = c(\"lightgray\", \"red\", \"black\", \"black\"),\n",
    "          main = mymain)\n",
    "\n",
    "      # Legend\n",
    "      legend(legend = c(\"Observations\", \"Mean (predictive distribution)\", \"95% intervals (predictive distribution)\"),\n",
    "            lty = c(\"solid\", \"solid\", \"dashed\"),\n",
    "            col = c(\"lightgray\", \"red\", \"black\"),\n",
    "            x = \"topleft\", cex = 0.6)\n",
    "\n",
    "      # Grid\n",
    "      grid(nx = NULL, ny = NULL,\n",
    "          lty = 2,      # Grid line type\n",
    "          col = \"gray\", # Grid line color\n",
    "          lwd = 1)      # Grid line width\n",
    "\n",
    "    }\n",
    "    dev.off()\n",
    "  }\n",
    "}\n",
    "\n"
   ]
  },
  {
   "cell_type": "code",
   "execution_count": null,
   "metadata": {
    "vscode": {
     "languageId": "r"
    }
   },
   "outputs": [],
   "source": [
    "\n",
    "######\n",
    "# combine data create date\n",
    "######\n",
    "\n",
    "newforecastDF <-  as.data.frame(do.call(cbind, forecasts))\n",
    "colnames(newforecastDF) <- colnames(dt2)\n",
    "allData = rbind(emptyDF, newforecastDF)\n",
    "\n",
    "quarters <- seq(from = as.Date(\"2005/01/01\"), to = as.Date(\"2026/04/01\"), by =\"quarter\")\n",
    "\n",
    "allData['Date'] <- quarters\n",
    "head(allData)\n",
    "\n",
    "allData1 <- allData %>% select(\"Date\", everything())\n",
    "\n",
    "allDataYearly <- apply.yearly(allData1, FUN = colMeans)\n",
    "allDataYearly\n",
    "   \n",
    "prtchangeDF <- sapply(allDataYearly, function(x) (x - lag(x))/lag(x) * 100)\n",
    "prtchangeDF <- as.data.frame(prtchangeDF)\n",
    "prtchangeDF['Date'] <- seq(from = as.Date(\"2005/01/01\"), to = as.Date(\"2026/01/01\"), by =\"year\")\n",
    "\n",
    "prtchangeDF <- prtchangeDF %>% select(\"Date\", everything())\n",
    "\n",
    "write.csv(emptyDF, \"emptyDF.csv\")\n",
    "write.csv(allDataYearly, \"allDataYearly.csv\")\n",
    "\n",
    "\n",
    "colnames(prtchangeDF) <- gsub(\"X\", \"\", colnames(prtchangeDF))\n",
    "colnames(prtchangeDF) <- gsub(\"_\", \" \", colnames(prtchangeDF))\n",
    "colnames(prtchangeDF) <- gsub(\"\\\\.\", \" \", colnames(prtchangeDF))\n",
    "prtchangeDF <- format(prtchangeDF, digits = 2)\n",
    "write.csv(prtchangeDF, \"prtchangeDF.csv\")"
   ]
  },
  {
   "cell_type": "code",
   "execution_count": null,
   "metadata": {
    "vscode": {
     "languageId": "r"
    }
   },
   "outputs": [],
   "source": []
  },
  {
   "cell_type": "code",
   "execution_count": null,
   "metadata": {
    "vscode": {
     "languageId": "r"
    }
   },
   "outputs": [],
   "source": []
  }
 ],
 "metadata": {
  "kernelspec": {
   "display_name": "R",
   "language": "R",
   "name": "ir"
  },
  "language_info": {
   "codemirror_mode": "r",
   "file_extension": ".r",
   "mimetype": "text/x-r-source",
   "name": "R",
   "pygments_lexer": "r",
   "version": "4.4.1"
  }
 },
 "nbformat": 4,
 "nbformat_minor": 2
}
