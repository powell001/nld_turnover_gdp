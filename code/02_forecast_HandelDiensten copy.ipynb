{
 "cells": [
  {
   "cell_type": "code",
   "execution_count": null,
   "metadata": {
    "vscode": {
     "languageId": "r"
    }
   },
   "outputs": [],
   "source": [
    "\n",
    "#install.packages(\"httpgd\")"
   ]
  },
  {
   "cell_type": "code",
   "execution_count": null,
   "metadata": {
    "vscode": {
     "languageId": "r"
    }
   },
   "outputs": [],
   "source": [
    "library(tidyverse)\n",
    "library(xts)\n",
    "library(zoo)\n",
    "library(svglite)\n",
    "library(TSstudio)\n",
    "library(zoo)\n",
    "library(dlm)\n",
    "library(forecast)\n",
    "library(expsmooth)\n",
    "library(ggplot2)\n",
    "library(ggfortify)\n",
    "library(changepoint)\n",
    "library(KFAS)\n",
    "library(httpgd)\n",
    "\n",
    "# Time series plots\n",
    "# https://cran.rstudio.com/web/packages/ggfortify/vignettes/plot_ts.html"
   ]
  },
  {
   "cell_type": "code",
   "execution_count": null,
   "metadata": {
    "vscode": {
     "languageId": "r"
    }
   },
   "outputs": [],
   "source": [
    "##########################\n",
    "# First smooth, if data is missing from the original \"y\" series, replace it\n",
    "# Only take values from 2005 Q1 to 2024Q1\n",
    "\n",
    "# load data\n",
    "dt1 <- read.csv(\"../data/HandelDiensten_raw.csv\", sep = \",\")\n",
    "series1 <- ts(dt1[\"Winkels.in.meubels..woninginrichting.alg\"], frequency = 12, start=c(2000,1))\n",
    "\n",
    "plot.ts(series1)\n",
    "series1"
   ]
  },
  {
   "cell_type": "code",
   "execution_count": null,
   "metadata": {
    "vscode": {
     "languageId": "r"
    }
   },
   "outputs": [],
   "source": [
    "plot(series1)\n",
    "#ets(bonds, model=\"AAN\", damped=TRUE)\n",
    "#ets(usnetelec, model=\"MMN\",damped=TRUE)\n",
    "#ets(ukcars, model=\"ANA\")\n",
    "#ets(visitors, model=\"MAM\")\n",
    "\n",
    "fit <- ets(series1, model=\"ANA\", damped=FALSE)\n",
    "plot(forecast(fit))"
   ]
  },
  {
   "cell_type": "code",
   "execution_count": null,
   "metadata": {
    "vscode": {
     "languageId": "r"
    }
   },
   "outputs": [],
   "source": [
    "forecast(fit)"
   ]
  },
  {
   "cell_type": "code",
   "execution_count": null,
   "metadata": {
    "vscode": {
     "languageId": "r"
    }
   },
   "outputs": [],
   "source": [
    "d.arima <- auto.arima(series1)\n",
    "d.forecast <- forecast(d.arima, level = c(95), h = 5)\n",
    "autoplot(d.forecast)\n",
    "\n",
    "autoplot(d.forecast, ts.colour = 'firebrick1', predict.colour = 'red',\n",
    "predict.linetype = 'dashed', conf.int = FALSE)"
   ]
  },
  {
   "cell_type": "code",
   "execution_count": null,
   "metadata": {
    "vscode": {
     "languageId": "r"
    }
   },
   "outputs": [],
   "source": [
    "model <- SSModel(series1 ~ SSMtrend(degree=1, Q=matrix(NA)), H=matrix(NA))\n",
    " \n",
    "fit <- fitSSM(model=model, inits=c(log(var(series1)),log(var(series1))), method=\"BFGS\")\n",
    "smoothed <- KFS(fit$model)\n",
    "autoplot(smoothed)"
   ]
  },
  {
   "cell_type": "code",
   "execution_count": null,
   "metadata": {
    "vscode": {
     "languageId": "r"
    }
   },
   "outputs": [],
   "source": [
    "filtered <- KFS(fit$model, filtering=\"mean\", smoothing='none')\n",
    "autoplot(filtered)"
   ]
  },
  {
   "cell_type": "code",
   "execution_count": null,
   "metadata": {
    "vscode": {
     "languageId": "r"
    }
   },
   "outputs": [],
   "source": [
    "trend <- signal(smoothed, states=\"trend\")\n",
    "class(trend)"
   ]
  },
  {
   "cell_type": "code",
   "execution_count": null,
   "metadata": {
    "vscode": {
     "languageId": "r"
    }
   },
   "outputs": [],
   "source": [
    "p <- autoplot(filtered)\n",
    "autoplot(trend, ts.colour = 'blue', p = p)"
   ]
  },
  {
   "cell_type": "code",
   "execution_count": null,
   "metadata": {
    "vscode": {
     "languageId": "r"
    }
   },
   "outputs": [],
   "source": [
    "autoplot(acf(series1, plot = FALSE))"
   ]
  },
  {
   "cell_type": "code",
   "execution_count": null,
   "metadata": {
    "vscode": {
     "languageId": "r"
    }
   },
   "outputs": [],
   "source": [
    "ggtsdiag(auto.arima(series1))"
   ]
  },
  {
   "cell_type": "code",
   "execution_count": null,
   "metadata": {
    "vscode": {
     "languageId": "r"
    }
   },
   "outputs": [],
   "source": [
    "autoplot(spec.ar(series1, plot = FALSE))"
   ]
  },
  {
   "cell_type": "code",
   "execution_count": null,
   "metadata": {
    "vscode": {
     "languageId": "r"
    }
   },
   "outputs": [],
   "source": [
    "ts2csv <- function(x) {\n",
    "  fname <- paste0(deparse(substitute(x)), \".csv\")\n",
    "  readr::write_csv(tsibble::as_tsibble(x, gather(FALSE)), fname)\n",
    "}"
   ]
  },
  {
   "cell_type": "code",
   "execution_count": null,
   "metadata": {
    "vscode": {
     "languageId": "r"
    }
   },
   "outputs": [],
   "source": [
    "ts2csv(series1)"
   ]
  },
  {
   "cell_type": "code",
   "execution_count": null,
   "metadata": {
    "vscode": {
     "languageId": "r"
    }
   },
   "outputs": [],
   "source": []
  },
  {
   "cell_type": "code",
   "execution_count": null,
   "metadata": {
    "vscode": {
     "languageId": "r"
    }
   },
   "outputs": [],
   "source": []
  },
  {
   "cell_type": "code",
   "execution_count": null,
   "metadata": {
    "vscode": {
     "languageId": "r"
    }
   },
   "outputs": [],
   "source": [
    "\n",
    "##### Start at 2005-01-01, replace missing values with best guess\n",
    "dt2 <- dt1[-c(1:20), -c(1)]\n",
    "\n",
    "# number columns\n",
    "numColumns <- dim(dt2)[2]\n",
    "numRows <- dim(dt2[1])\n",
    "colNames <- colnames(dt2)\n",
    "\n",
    "emptyDF = data.frame(matrix(NA, nrow = numRows, ncol = numColumns))\n",
    "colnames(emptyDF) <- colnames(dt2)"
   ]
  },
  {
   "cell_type": "code",
   "execution_count": null,
   "metadata": {
    "vscode": {
     "languageId": "r"
    }
   },
   "outputs": [],
   "source": [
    "for (i in 1:numColumns) {\n",
    "    print(i)\n",
    "    y <- dt2[, i]\n",
    "\n",
    "    # ######################################\n",
    "    # # Kalman smoothing\n",
    "    # ######################################\n",
    "\n",
    "    # Setting of local-level model\n",
    "    W <- 1\n",
    "    V <- 2\n",
    "    m0 <- 10\n",
    "    C0 <- 9\n",
    "    mod <- dlmModPoly(order = 1, dW = W, dV = V, m0 = m0, C0 = C0)\n",
    "\n",
    "    dlmSmoothed_obj <- dlmSmooth(y = y, mod = mod)\n",
    "\n",
    "    # Find the mean and standard deviation of the smoothing distribution\n",
    "    s <- dropFirst(dlmSmoothed_obj$s)\n",
    "\n",
    "    # which of the original data is missing, for example, sector: 11_Drankenindustrie\n",
    "    replaceThese <- which(is.na(y))\n",
    "    y[replaceThese] <- s[replaceThese]\n",
    "\n",
    "    emptyDF[,i] <- y\n",
    "}    \n",
    "\n",
    "write.csv(emptyDF, \"tmp.csv\")\n"
   ]
  },
  {
   "cell_type": "code",
   "execution_count": null,
   "metadata": {
    "vscode": {
     "languageId": "r"
    }
   },
   "outputs": [],
   "source": [
    "######################################\n",
    "## Local-trend model\n",
    "######################################\n",
    "\n",
    "localTrend <- emptyDF\n",
    "\n",
    "## Seasonal model\n",
    "### Approach from the time domain\n",
    "### Approach from the frequency domain\n",
    "#### Local-trend model + seasonal model (time-domain approach)\n",
    "\n",
    "# Preprocessing\n",
    "library(dlm)\n",
    "\n",
    "####\n",
    "# Save forecasts\n",
    "####\n",
    "forecasts <- c()\n",
    "namesCols <- c()\n",
    "\n",
    "for (j in 0:18){\n",
    "  png(paste(\"../output/Kalman2/plot_\", j, \".png\", sep = \"\"))\n",
    "  par(mfrow = c(4, 1), mar = c(4, 1, 1, 4))\n",
    "\n",
    "  begin <- 1 + (j * 4)\n",
    "  end   <- 4 + (j * 4)\n",
    "\n",
    "  if (begin <= 70) {\n",
    "\n",
    "    for (i in begin:end){\n",
    "      print(colNames[i])      \n",
    "      mymain <- colNames[i]\n",
    "\n",
    "      # Data\n",
    "      y <- ts(na.omit(localTrend[, i]), frequency = 4, start = c(2005, 1))\n",
    "      # if (colNames[i] == \"X51_Vervoer_door_de_lucht\"){\n",
    "      #   print(y)\n",
    "      #   print(!is.na(as.numeric(y)))\n",
    "      # }\n",
    "\n",
    "      # Model setting: local-trend model + seasonal model (time-domain approach)\n",
    "      build_dlm_test <- function(par) {\n",
    "        return(\n",
    "          dlmModPoly(order = 2, dW = exp(par[1:2]), dV = exp(par[3])) +\n",
    "          dlmModSeas(frequency = 4, dW = c(exp(par[4]), rep(0, times = 2)), dV = 1)\n",
    "        )\n",
    "      }\n",
    "\n",
    "      # Maximum likelihood estimation of parameters and confirmation of the results\n",
    "      fit_dlm_test <- dlmMLE(y = y, parm = rep(0, 4), build = build_dlm_test)\n",
    "    \n",
    "      # Set the maximum likelihood estimates of parameters in the model\n",
    "      mod  <- build_dlm_test(fit_dlm_test$par)\n",
    "\n",
    "      # # Kalman filtering\n",
    "      dlmFiltered_obj  <- dlmFilter(y = y, mod = mod)\n",
    "      dlmFiltered_obja <- dlmFiltered_obj  # Save under a different name for later comparison of prediction values\n",
    "\n",
    "      ######################################\n",
    "      # Kalman prediction\n",
    "      ######################################\n",
    "\n",
    "      dlmForecasted_object <- dlmForecast(mod = dlmFiltered_obj, nAhead = 8)\n",
    "      forecasts[i] <- as.data.frame(dlmForecasted_object$f)\n",
    "\n",
    "      # Find the standard deviation and the 2.5% and 97.5% values of the prediction value\n",
    "      f_sd <- sqrt(as.numeric(dlmForecasted_object$Q))\n",
    "      f_lower <- dlmForecasted_object$f + qnorm(0.025, sd = f_sd)\n",
    "      f_upper <- dlmForecasted_object$f + qnorm(0.975, sd = f_sd)\n",
    "\n",
    "      # Unite the entire observation along with the mean, 2.5%, and 97.5% values of the prediction values into ts class object\n",
    "      y_union <- ts.union(y, dlmForecasted_object$f, f_lower, f_upper)\n",
    "\n",
    "      # Plot results\n",
    "      plot(y_union, plot.type = \"single\",\n",
    "          xlim = c(2005, 2026),\n",
    "          ylim = c(50,  240), ylab = \"Year-Quarter\", \n",
    "          lty = c(\"solid\", \"solid\", \"dashed\", \"dashed\"),\n",
    "          col = c(\"lightgray\", \"red\", \"black\", \"black\"),\n",
    "          main = mymain)\n",
    "\n",
    "      # Legend\n",
    "      legend(legend = c(\"Observations\", \"Mean (predictive distribution)\", \"95% intervals (predictive distribution)\"),\n",
    "            lty = c(\"solid\", \"solid\", \"dashed\"),\n",
    "            col = c(\"lightgray\", \"black\", \"black\"),\n",
    "            x = \"topleft\", cex = 0.6)\n",
    "\n",
    "      # Grid\n",
    "      grid(nx = NULL, ny = NULL,\n",
    "          lty = 2,      # Grid line type\n",
    "          col = \"gray\", # Grid line color\n",
    "          lwd = 1)      # Grid line width\n",
    "    }\n",
    "\n",
    "    dev.off()\n",
    "  \n",
    "  } else {\n",
    "\n",
    "    for (i in 71:75){\n",
    "\n",
    "      print(colNames[i])\n",
    "      if (length(na.omit(localTrend[, i])) < 20) next\n",
    "      mymain <- colNames[i]\n",
    "\n",
    "      # Data\n",
    "      y <- ts(na.omit(localTrend[, i]), frequency = 4, start = c(2005, 1))\n",
    "\n",
    "      # Model setting: local-trend model + seasonal model (time-domain approach)\n",
    "      build_dlm_test <- function(par) {\n",
    "        return(\n",
    "          dlmModPoly(order = 2, dW = exp(par[1:2]), dV = exp(par[3])) +\n",
    "          dlmModSeas(frequency = 4, dW = c(exp(par[4]), rep(0, times = 2)), dV = 0)\n",
    "        )\n",
    "      }\n",
    "\n",
    "      # Maximum likelihood estimation of parameters and confirmation of the results\n",
    "      fit_dlm_test <- dlmMLE(y = y, parm = rep(0, 4), build = build_dlm_test)\n",
    "      fit_dlm_test\n",
    "\n",
    "      # Set the maximum likelihood estimates of parameters in the model\n",
    "      mod  <- build_dlm_test(fit_dlm_test$par)\n",
    "\n",
    "      # # Kalman filtering\n",
    "      dlmFiltered_obj  <- dlmFilter(y = y, mod = mod)\n",
    "      dlmFiltered_obja <- dlmFiltered_obj  # Save under a different name for later comparison of prediction values\n",
    "\n",
    "      ######################################\n",
    "      # Kalman prediction\n",
    "      ######################################\n",
    "\n",
    "      dlmForecasted_object <- dlmForecast(mod = dlmFiltered_obj, nAhead = 4)\n",
    "      forecasts[i] <-  as.data.frame(dlmForecasted_object$f)\n",
    "\n",
    "      # Find the standard deviation and the 2.5% and 97.5% values of the prediction value\n",
    "      f_sd <- sqrt(as.numeric(dlmForecasted_object$Q))\n",
    "      f_lower <- dlmForecasted_object$f + qnorm(0.025, sd = f_sd)\n",
    "      f_upper <- dlmForecasted_object$f + qnorm(0.975, sd = f_sd)\n",
    "\n",
    "      # Unite the entire observation along with the mean, 2.5%, and 97.5% values of the prediction values into ts class object\n",
    "      y_union <- ts.union(y, dlmForecasted_object$f, f_lower, f_upper)\n",
    "\n",
    "      # Ignore the display of following codes\n",
    "\n",
    "      # Plot results\n",
    "      plot(y_union, plot.type = \"single\",\n",
    "          xlim = c(2005, 2026),\n",
    "          ylim = c(50,  240), ylab = \"Year-Quarter\", \n",
    "          lty = c(\"solid\", \"solid\", \"dashed\", \"dashed\"),\n",
    "          col = c(\"lightgray\", \"red\", \"black\", \"black\"),\n",
    "          main = mymain)\n",
    "\n",
    "      # Legend\n",
    "      legend(legend = c(\"Observations\", \"Mean (predictive distribution)\", \"95% intervals (predictive distribution)\"),\n",
    "            lty = c(\"solid\", \"solid\", \"dashed\"),\n",
    "            col = c(\"lightgray\", \"red\", \"black\"),\n",
    "            x = \"topleft\", cex = 0.6)\n",
    "\n",
    "      # Grid\n",
    "      grid(nx = NULL, ny = NULL,\n",
    "          lty = 2,      # Grid line type\n",
    "          col = \"gray\", # Grid line color\n",
    "          lwd = 1)      # Grid line width\n",
    "\n",
    "    }\n",
    "    dev.off()\n",
    "  }\n",
    "}\n",
    "\n"
   ]
  },
  {
   "cell_type": "code",
   "execution_count": null,
   "metadata": {
    "vscode": {
     "languageId": "r"
    }
   },
   "outputs": [],
   "source": [
    "\n",
    "######\n",
    "# combine data create date\n",
    "######\n",
    "\n",
    "newforecastDF <-  as.data.frame(do.call(cbind, forecasts))\n",
    "colnames(newforecastDF) <- colnames(dt2)\n",
    "allData = rbind(emptyDF, newforecastDF)\n",
    "\n",
    "quarters <- seq(from = as.Date(\"2005/01/01\"), to = as.Date(\"2026/04/01\"), by =\"quarter\")\n",
    "\n",
    "allData['Date'] <- quarters\n",
    "head(allData)\n",
    "\n",
    "allData1 <- allData %>% select(\"Date\", everything())\n",
    "\n",
    "allDataYearly <- apply.yearly(allData1, FUN = colMeans)\n",
    "allDataYearly\n",
    "   \n",
    "prtchangeDF <- sapply(allDataYearly, function(x) (x - lag(x))/lag(x) * 100)\n",
    "prtchangeDF <- as.data.frame(prtchangeDF)\n",
    "prtchangeDF['Date'] <- seq(from = as.Date(\"2005/01/01\"), to = as.Date(\"2026/01/01\"), by =\"year\")\n",
    "\n",
    "prtchangeDF <- prtchangeDF %>% select(\"Date\", everything())\n",
    "\n",
    "write.csv(emptyDF, \"emptyDF.csv\")\n",
    "write.csv(allDataYearly, \"allDataYearly.csv\")\n",
    "\n",
    "\n",
    "colnames(prtchangeDF) <- gsub(\"X\", \"\", colnames(prtchangeDF))\n",
    "colnames(prtchangeDF) <- gsub(\"_\", \" \", colnames(prtchangeDF))\n",
    "colnames(prtchangeDF) <- gsub(\"\\\\.\", \" \", colnames(prtchangeDF))\n",
    "prtchangeDF <- format(prtchangeDF, digits = 2)\n",
    "write.csv(prtchangeDF, \"prtchangeDF.csv\")"
   ]
  },
  {
   "cell_type": "code",
   "execution_count": null,
   "metadata": {
    "vscode": {
     "languageId": "r"
    }
   },
   "outputs": [],
   "source": []
  },
  {
   "cell_type": "code",
   "execution_count": null,
   "metadata": {
    "vscode": {
     "languageId": "r"
    }
   },
   "outputs": [],
   "source": []
  }
 ],
 "metadata": {
  "kernelspec": {
   "display_name": "R",
   "language": "R",
   "name": "ir"
  },
  "language_info": {
   "codemirror_mode": "r",
   "file_extension": ".r",
   "mimetype": "text/x-r-source",
   "name": "R",
   "pygments_lexer": "r",
   "version": "4.4.1"
  }
 },
 "nbformat": 4,
 "nbformat_minor": 2
}
