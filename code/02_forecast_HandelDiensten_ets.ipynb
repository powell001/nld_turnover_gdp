{
 "cells": [
  {
   "cell_type": "code",
   "execution_count": null,
   "metadata": {
    "vscode": {
     "languageId": "r"
    }
   },
   "outputs": [],
   "source": [
    "#install.packages(\"car\")\n"
   ]
  },
  {
   "cell_type": "code",
   "execution_count": null,
   "metadata": {
    "vscode": {
     "languageId": "r"
    }
   },
   "outputs": [],
   "source": [
    "library(tidyverse)\n",
    "library(xts)\n",
    "library(zoo)\n",
    "library(svglite)\n",
    "library(TSstudio)\n",
    "library(zoo)\n",
    "library(dlm)\n",
    "library(forecast)\n",
    "library(expsmooth)\n",
    "library(ggplot2)\n",
    "#library(ggfortify)\n",
    "library(changepoint)\n",
    "library(KFAS)\n",
    "library(httpgd)\n",
    "library(funtimes)\n",
    "library(seastests)\n",
    "library(car)\n",
    "library(lmtest)\n",
    "\n",
    "# Time series plots\n",
    "# https://cran.rstudio.com/web/packages/ggfortify/vignettes/plot_ts.html"
   ]
  },
  {
   "cell_type": "markdown",
   "metadata": {},
   "source": [
    "Model consists of three letters following Hyndman (2008) and here: https://search.r-project.org/CRAN/refmans/forecast/html/ets.html\n",
    "\n",
    "First letter is the error type:     A, M or Z\n",
    "Second letter is the trend type:    N, A, M, Z\n",
    "Third letter is the season type:    N, A, M, Z\n",
    "\n",
    "Some of the models have names:\n",
    "    ANN is simple exponential smoothing with additive errors.\n",
    "    MAM is multiplicative Holt-Winters with multiplicative errors."
   ]
  },
  {
   "cell_type": "code",
   "execution_count": null,
   "metadata": {
    "vscode": {
     "languageId": "r"
    }
   },
   "outputs": [],
   "source": [
    "##########################\n",
    "# First smooth, if data is missing from the original \"y\" series, replace it\n",
    "# Only take values from 2005 Q1 to 2024Q1\n",
    "\n",
    "# load data\n",
    "dt1 <- read.csv(\"../data/HandelDiensten_raw.csv\", sep = \",\")\n",
    "colnames(dt1)"
   ]
  },
  {
   "cell_type": "code",
   "execution_count": null,
   "metadata": {
    "vscode": {
     "languageId": "r"
    }
   },
   "outputs": [],
   "source": [
    "\n",
    "# series1 <- ts(dt1[\"Winkels.in.meubels..woninginrichting.alg\"], frequency = 12, start=c(2000,1))\n",
    "# series1 <- ts(dt1[\"X4791.Postorderbedrijven..webwinkels\"], frequency = 12, start=c(2000,1))\n",
    "series1 <- ts(dt1['Winkels.in.meubels..woninginrichting.alg'], frequency = 12, start=c(2000,1))\n",
    "series1"
   ]
  },
  {
   "cell_type": "code",
   "execution_count": null,
   "metadata": {
    "vscode": {
     "languageId": "r"
    }
   },
   "outputs": [],
   "source": [
    "#########################\n",
    "# Which model to use\n",
    "#########################\n",
    "\n",
    "###########################\n",
    "# Trend or not?\n",
    "###########################\n",
    "\n",
    "p_value <- notrend_test(series1)$p.value\n",
    "\n",
    "if (p_value > 0.05) {\n",
    "  print(\"Has Trend\")\n",
    "  } else {print (\"No Trend\")}\n",
    "\n",
    "###########################\n",
    "# Additive or multiplictive?\n",
    "###########################\n",
    "\n",
    "decompose_series1 <- decompose(series1, \"multiplicative\")\n",
    "decompose_series1_multiplicative <- decompose_series1$random\n",
    "muladd_mul <- sqrt(mean(abs(decompose_series1_multiplicative)^2, na.rm=TRUE))\n",
    "\n",
    "decompose_series1 <- decompose(series1, \"additive\")\n",
    "decompose_series1_additive <- decompose_series1$random\n",
    "muladd_add <- sqrt(mean(abs(decompose_series1_additive)^2, na.rm=TRUE))\n",
    "\n",
    "if (muladd_mul < muladd_add) {\n",
    "  print(\"Use Multiplicative\")\n",
    "  } else {print (\"Use Additive\")}\n",
    "\n",
    "###########################\n",
    "# Seasonnal or not\n",
    "###########################\n",
    "\n",
    "season_Check <- isSeasonal(series1)\n",
    "\n",
    "if (season_Check == TRUE) {\n",
    "  print(\"Use Seasonal\")\n",
    "  } else {print (\"Use Non-Seasonal\")}\n",
    "\n"
   ]
  },
  {
   "cell_type": "code",
   "execution_count": null,
   "metadata": {
    "vscode": {
     "languageId": "r"
    }
   },
   "outputs": [],
   "source": [
    "# error, trend, season\n",
    "\n",
    "#ets(bonds, model=\"AAN\", damped=TRUE)\n",
    "#ets(usnetelec, model=\"MMN\",damped=TRUE)\n",
    "#ets(ukcars, model=\"ANA\")#\n",
    "#ets(visitors, model=\"MAM\")\n",
    "\n",
    "\n",
    "fit <- ets(series1, model=\"MAA\", damped=FALSE)\n",
    "#fit <- ets(series1, model=\"ANA\", damped=FALSE)\n",
    "\n",
    "plot(forecast(fit))\n"
   ]
  },
  {
   "cell_type": "code",
   "execution_count": null,
   "metadata": {
    "vscode": {
     "languageId": "r"
    }
   },
   "outputs": [],
   "source": [
    "h1 <- 28\n",
    "train <- head(series1, round(length(series1) - h1))\n",
    "test <- tail(series1, h1)"
   ]
  },
  {
   "cell_type": "code",
   "execution_count": null,
   "metadata": {
    "vscode": {
     "languageId": "r"
    }
   },
   "outputs": [],
   "source": [
    "fit <- ets(train, model=\"ANA\", damped=FALSE)\n",
    "forecasted <- forecast(fit, h=h1)"
   ]
  },
  {
   "cell_type": "code",
   "execution_count": null,
   "metadata": {
    "vscode": {
     "languageId": "r"
    }
   },
   "outputs": [],
   "source": [
    "\n",
    "autoplot(train) + autolayer(test) + autolayer(forecasted)"
   ]
  },
  {
   "cell_type": "code",
   "execution_count": null,
   "metadata": {
    "vscode": {
     "languageId": "r"
    }
   },
   "outputs": [],
   "source": []
  },
  {
   "cell_type": "code",
   "execution_count": null,
   "metadata": {
    "vscode": {
     "languageId": "r"
    }
   },
   "outputs": [],
   "source": [
    "dev.list()"
   ]
  },
  {
   "cell_type": "code",
   "execution_count": null,
   "metadata": {
    "vscode": {
     "languageId": "r"
    }
   },
   "outputs": [],
   "source": [
    "trend_series1 = ma(series1, order = 12, centre = T)\n",
    "plot(as.ts(series1))\n",
    "lines(trend_series1)\n",
    "plot(as.ts(trend_series1))"
   ]
  },
  {
   "cell_type": "code",
   "execution_count": null,
   "metadata": {
    "vscode": {
     "languageId": "r"
    }
   },
   "outputs": [],
   "source": [
    "detrend_series1 = series1 - trend_series1\n",
    "plot(as.ts(detrend_series1))"
   ]
  },
  {
   "cell_type": "code",
   "execution_count": null,
   "metadata": {
    "vscode": {
     "languageId": "r"
    }
   },
   "outputs": [],
   "source": [
    "decompose_series1 <- decompose(series1, \"multiplicative\")\n",
    "plot(decompose_series1$random)\n",
    "decompose_series1_multiplicative <- decompose_series1$random\n",
    "sum(abs(decompose_series1_multiplicative), na.rm=TRUE)\n",
    "\n",
    "sqrt(mean(abs(decompose_series1_multiplicative)^2, na.rm=TRUE))\n"
   ]
  },
  {
   "cell_type": "code",
   "execution_count": null,
   "metadata": {
    "vscode": {
     "languageId": "r"
    }
   },
   "outputs": [],
   "source": [
    "decompose_series1 <- decompose(series1, \"additive\")\n",
    "plot(decompose_series1$random)\n",
    "decompose_series1_additive <- decompose_series1$random\n",
    "sum(abs(decompose_series1_additive), na.rm=TRUE)\n",
    "sqrt(mean(abs(decompose_series1_additive)^2, na.rm=TRUE))"
   ]
  },
  {
   "cell_type": "code",
   "execution_count": null,
   "metadata": {
    "vscode": {
     "languageId": "r"
    }
   },
   "outputs": [],
   "source": [
    "decompose_series1 <- decompose(series1, \"additive\")\n",
    "plot(decompose_series1)"
   ]
  },
  {
   "cell_type": "code",
   "execution_count": null,
   "metadata": {
    "vscode": {
     "languageId": "r"
    }
   },
   "outputs": [],
   "source": []
  },
  {
   "cell_type": "code",
   "execution_count": null,
   "metadata": {
    "vscode": {
     "languageId": "r"
    }
   },
   "outputs": [],
   "source": []
  },
  {
   "cell_type": "code",
   "execution_count": null,
   "metadata": {
    "vscode": {
     "languageId": "r"
    }
   },
   "outputs": [],
   "source": []
  },
  {
   "cell_type": "code",
   "execution_count": null,
   "metadata": {
    "vscode": {
     "languageId": "r"
    }
   },
   "outputs": [],
   "source": [
    "\n",
    "#ets(bonds, model=\"AAN\", damped=TRUE)\n",
    "#ets(usnetelec, model=\"MMN\",damped=TRUE)\n",
    "#ets(ukcars, model=\"ANA\")\n",
    "#ets(visitors, model=\"MAM\")\n",
    "\n",
    "fit <- ets(series1, model=\"ANA\", damped=FALSE)\n",
    "plot(forecast(fit))"
   ]
  },
  {
   "cell_type": "code",
   "execution_count": null,
   "metadata": {
    "vscode": {
     "languageId": "r"
    }
   },
   "outputs": [],
   "source": [
    "forecast(fit)"
   ]
  },
  {
   "cell_type": "code",
   "execution_count": null,
   "metadata": {
    "vscode": {
     "languageId": "r"
    }
   },
   "outputs": [],
   "source": []
  },
  {
   "cell_type": "code",
   "execution_count": null,
   "metadata": {
    "vscode": {
     "languageId": "r"
    }
   },
   "outputs": [],
   "source": []
  }
 ],
 "metadata": {
  "kernelspec": {
   "display_name": "R",
   "language": "R",
   "name": "ir"
  },
  "language_info": {
   "codemirror_mode": "r",
   "file_extension": ".r",
   "mimetype": "text/x-r-source",
   "name": "R",
   "pygments_lexer": "r",
   "version": "4.3.3"
  }
 },
 "nbformat": 4,
 "nbformat_minor": 2
}
