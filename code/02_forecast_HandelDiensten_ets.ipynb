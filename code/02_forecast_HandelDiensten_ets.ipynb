{
 "cells": [
  {
   "cell_type": "code",
   "execution_count": 146,
   "metadata": {
    "vscode": {
     "languageId": "r"
    }
   },
   "outputs": [
    {
     "name": "stderr",
     "output_type": "stream",
     "text": [
      "also installing the dependencies 'mnormt', 'GPArotation', 'pbivnorm', 'htmlTable', 'proto', 'shape', 'coda', 'psych', 'lavaan', 'Hmisc', 'igraph', 'jpeg', 'png', 'glasso', 'fdrtool', 'gtools', 'pbapply', 'gsubfn', 'xtable', 'texreg', 'pander', 'fastDummies', 'checkmate', 'glmnet', 'arm', 'qgraph', 'clusterGeneration', 'mvtnorm', 'corpcor', 'MplusAutomation', 'graphicalVAR', 'rbibutils', 'strucchange', 'dbscan', 'Kendall', 'mlVAR', 'Rdpack', 'sandwich', 'vars'\n",
      "\n",
      "\n"
     ]
    },
    {
     "name": "stdout",
     "output_type": "stream",
     "text": [
      "\n",
      "  There is a binary version available but the source version is later:\n",
      "      binary source needs_compilation\n",
      "Hmisc  5.1-3  5.2-0              TRUE\n",
      "\n",
      "  Binaries will be installed\n",
      "package 'mnormt' successfully unpacked and MD5 sums checked\n",
      "package 'GPArotation' successfully unpacked and MD5 sums checked\n",
      "package 'pbivnorm' successfully unpacked and MD5 sums checked\n",
      "package 'htmlTable' successfully unpacked and MD5 sums checked\n",
      "package 'proto' successfully unpacked and MD5 sums checked\n",
      "package 'shape' successfully unpacked and MD5 sums checked\n",
      "package 'coda' successfully unpacked and MD5 sums checked\n",
      "package 'psych' successfully unpacked and MD5 sums checked\n",
      "package 'lavaan' successfully unpacked and MD5 sums checked\n",
      "package 'Hmisc' successfully unpacked and MD5 sums checked\n",
      "package 'igraph' successfully unpacked and MD5 sums checked\n",
      "package 'jpeg' successfully unpacked and MD5 sums checked\n",
      "package 'png' successfully unpacked and MD5 sums checked\n",
      "package 'glasso' successfully unpacked and MD5 sums checked\n",
      "package 'fdrtool' successfully unpacked and MD5 sums checked\n",
      "package 'gtools' successfully unpacked and MD5 sums checked\n",
      "package 'pbapply' successfully unpacked and MD5 sums checked\n",
      "package 'gsubfn' successfully unpacked and MD5 sums checked\n",
      "package 'xtable' successfully unpacked and MD5 sums checked\n",
      "package 'texreg' successfully unpacked and MD5 sums checked\n",
      "package 'pander' successfully unpacked and MD5 sums checked\n",
      "package 'fastDummies' successfully unpacked and MD5 sums checked\n",
      "package 'checkmate' successfully unpacked and MD5 sums checked\n",
      "package 'glmnet' successfully unpacked and MD5 sums checked\n",
      "package 'arm' successfully unpacked and MD5 sums checked\n",
      "package 'qgraph' successfully unpacked and MD5 sums checked\n",
      "package 'clusterGeneration' successfully unpacked and MD5 sums checked\n",
      "package 'mvtnorm' successfully unpacked and MD5 sums checked\n",
      "package 'corpcor' successfully unpacked and MD5 sums checked\n",
      "package 'MplusAutomation' successfully unpacked and MD5 sums checked\n",
      "package 'graphicalVAR' successfully unpacked and MD5 sums checked\n",
      "package 'rbibutils' successfully unpacked and MD5 sums checked\n",
      "package 'strucchange' successfully unpacked and MD5 sums checked\n",
      "package 'dbscan' successfully unpacked and MD5 sums checked\n",
      "package 'Kendall' successfully unpacked and MD5 sums checked\n",
      "package 'mlVAR' successfully unpacked and MD5 sums checked\n",
      "package 'Rdpack' successfully unpacked and MD5 sums checked\n",
      "package 'sandwich' successfully unpacked and MD5 sums checked\n",
      "package 'vars' successfully unpacked and MD5 sums checked\n",
      "package 'funtimes' successfully unpacked and MD5 sums checked\n",
      "\n",
      "The downloaded binary packages are in\n",
      "\tC:\\Users\\jpark\\AppData\\Local\\Temp\\Rtmp8EABth\\downloaded_packages\n"
     ]
    }
   ],
   "source": [
    "install.packages(\"funtimes\")\n",
    "library(funtimes)"
   ]
  },
  {
   "cell_type": "code",
   "execution_count": 147,
   "metadata": {
    "vscode": {
     "languageId": "r"
    }
   },
   "outputs": [],
   "source": [
    "library(tidyverse)\n",
    "library(xts)\n",
    "library(zoo)\n",
    "library(svglite)\n",
    "library(TSstudio)\n",
    "library(zoo)\n",
    "library(dlm)\n",
    "library(forecast)\n",
    "library(expsmooth)\n",
    "library(ggplot2)\n",
    "library(ggfortify)\n",
    "library(changepoint)\n",
    "library(KFAS)\n",
    "library(httpgd)\n",
    "library(funtimes)\n",
    "\n",
    "# Time series plots\n",
    "# https://cran.rstudio.com/web/packages/ggfortify/vignettes/plot_ts.html"
   ]
  },
  {
   "cell_type": "code",
   "execution_count": 148,
   "metadata": {
    "vscode": {
     "languageId": "r"
    }
   },
   "outputs": [
    {
     "data": {
      "text/html": [
       "<style>\n",
       ".list-inline {list-style: none; margin:0; padding: 0}\n",
       ".list-inline>li {display: inline-block}\n",
       ".list-inline>li:not(:last-child)::after {content: \"\\00b7\"; padding: 0 .5ex}\n",
       "</style>\n",
       "<ol class=list-inline><li>'Perioden'</li><li>'X45.Autohandel.en..reparatie'</li><li>'X451.Autohandel.en..reparatie'</li><li>'X45111.Import.van.nieuwe.personenauto.s'</li><li>'X452.Gespecialiseerde.autoreparatie'</li><li>'X453.Handel.in.auto.onderdelen'</li><li>'X454.Handel.en.reparatie.van.motorfietsen'</li><li>'X46.Groothandel.en.handelsbemiddeling'</li><li>'X462.Groothandel.in.landbouwproducten'</li><li>'X463.Groothandel.in.voedingsmiddelen'</li><li>'X464.Groothandel.in.non.food'</li><li>'X466.Groothandel.in.industriemachines'</li><li>'X467.Overige.gespecialiseerde.groothandel'</li><li>'X47.Detailhandel..niet.in.auto.s.'</li><li>'X471.Supermarkten.en.warenhuizen'</li><li>'X4711.Supermarkten'</li><li>'X4711..472.Winkels.in.voedingsmiddelen'</li><li>'X472.Winkels.in.voedingsmiddelen'</li><li>'X474.Winkels.in.consumentenelektronica'</li><li>'X475.Winkels.in.overige.huishoudwaren'</li><li>'X4752.Winkels.in.doe.het.zelfartikelen'</li><li>'X47528.Bouwmarkten'</li><li>'X4759.Winkels.overige.huishoudartikelen'</li><li>'X476.Winkels.in.recreatieartikelen'</li><li>'X477.Winkels.in.overige.artikelen'</li><li>'X4771.Winkels.in.kleding'</li><li>'X4772.Winkels.in.schoenen.en.lederwaren'</li><li>'X47741.Drogisterijen'</li><li>'X479.Detailhandel..geen.winkel.of.markt'</li><li>'X4791.Postorderbedrijven..webwinkels'</li><li>'X49.Vervoer.over.land'</li><li>'X50.Vervoer.over.water'</li><li>'X51.Vervoer.door.de.lucht'</li><li>'X52.Opslag..dienstverlening.voor.vervoer'</li><li>'X53.Post.en.koeriers'</li><li>'X55.Logiesverstrekking'</li><li>'X56.Eet..en.drinkgelegenheden'</li><li>'X58.Uitgeverijen'</li><li>'X59.Film..en.tv.productie..geluidsopname'</li><li>'X60.Radio..en.televisieomroepen'</li><li>'X61.Telecommunicatie'</li><li>'X62.IT.dienstverlening'</li><li>'X63.Diensten.op.het.gebied.van.informatie'</li><li>'X68.Verhuur.en.handel.van.onroerend.goed'</li><li>'X71.Architecten...ingenieursbureaus.e.d.'</li><li>'X73.Reclamewezen.en.marktonderzoek'</li><li>'X74.Design..fotografie..vertaalbureaus'</li><li>'X79.Reisbureaus..reisorganisatie.en..info'</li><li>'X80.Beveiligings..en.opsporingsdiensten'</li><li>'X81.Schoonmaakbedrijven..hoveniers.e.d.'</li><li>'X82.Overige.zakelijke.dienstverlening'</li><li>'Detailhandel.excl..auto.s..tankstations'</li><li>'G.Handel'</li><li>'H.Vervoer.en.opslag'</li><li>'H.I.J.L.M.N.Totaal.dienstverlening'</li><li>'I.Horeca'</li><li>'J.Informatie.en.communicatie'</li><li>'L.Verhuur.en.handel.van.onroerend.goed'</li><li>'M.Specialistische.zakelijke.diensten'</li><li>'N.Verhuur.en.overige.zakelijke.diensten'</li><li>'Winkels.in.meubels..woninginrichting.alg'</li><li>'Winkels.in.non.food..dh.geen.winkel'</li></ol>\n"
      ],
      "text/latex": [
       "\\begin{enumerate*}\n",
       "\\item 'Perioden'\n",
       "\\item 'X45.Autohandel.en..reparatie'\n",
       "\\item 'X451.Autohandel.en..reparatie'\n",
       "\\item 'X45111.Import.van.nieuwe.personenauto.s'\n",
       "\\item 'X452.Gespecialiseerde.autoreparatie'\n",
       "\\item 'X453.Handel.in.auto.onderdelen'\n",
       "\\item 'X454.Handel.en.reparatie.van.motorfietsen'\n",
       "\\item 'X46.Groothandel.en.handelsbemiddeling'\n",
       "\\item 'X462.Groothandel.in.landbouwproducten'\n",
       "\\item 'X463.Groothandel.in.voedingsmiddelen'\n",
       "\\item 'X464.Groothandel.in.non.food'\n",
       "\\item 'X466.Groothandel.in.industriemachines'\n",
       "\\item 'X467.Overige.gespecialiseerde.groothandel'\n",
       "\\item 'X47.Detailhandel..niet.in.auto.s.'\n",
       "\\item 'X471.Supermarkten.en.warenhuizen'\n",
       "\\item 'X4711.Supermarkten'\n",
       "\\item 'X4711..472.Winkels.in.voedingsmiddelen'\n",
       "\\item 'X472.Winkels.in.voedingsmiddelen'\n",
       "\\item 'X474.Winkels.in.consumentenelektronica'\n",
       "\\item 'X475.Winkels.in.overige.huishoudwaren'\n",
       "\\item 'X4752.Winkels.in.doe.het.zelfartikelen'\n",
       "\\item 'X47528.Bouwmarkten'\n",
       "\\item 'X4759.Winkels.overige.huishoudartikelen'\n",
       "\\item 'X476.Winkels.in.recreatieartikelen'\n",
       "\\item 'X477.Winkels.in.overige.artikelen'\n",
       "\\item 'X4771.Winkels.in.kleding'\n",
       "\\item 'X4772.Winkels.in.schoenen.en.lederwaren'\n",
       "\\item 'X47741.Drogisterijen'\n",
       "\\item 'X479.Detailhandel..geen.winkel.of.markt'\n",
       "\\item 'X4791.Postorderbedrijven..webwinkels'\n",
       "\\item 'X49.Vervoer.over.land'\n",
       "\\item 'X50.Vervoer.over.water'\n",
       "\\item 'X51.Vervoer.door.de.lucht'\n",
       "\\item 'X52.Opslag..dienstverlening.voor.vervoer'\n",
       "\\item 'X53.Post.en.koeriers'\n",
       "\\item 'X55.Logiesverstrekking'\n",
       "\\item 'X56.Eet..en.drinkgelegenheden'\n",
       "\\item 'X58.Uitgeverijen'\n",
       "\\item 'X59.Film..en.tv.productie..geluidsopname'\n",
       "\\item 'X60.Radio..en.televisieomroepen'\n",
       "\\item 'X61.Telecommunicatie'\n",
       "\\item 'X62.IT.dienstverlening'\n",
       "\\item 'X63.Diensten.op.het.gebied.van.informatie'\n",
       "\\item 'X68.Verhuur.en.handel.van.onroerend.goed'\n",
       "\\item 'X71.Architecten...ingenieursbureaus.e.d.'\n",
       "\\item 'X73.Reclamewezen.en.marktonderzoek'\n",
       "\\item 'X74.Design..fotografie..vertaalbureaus'\n",
       "\\item 'X79.Reisbureaus..reisorganisatie.en..info'\n",
       "\\item 'X80.Beveiligings..en.opsporingsdiensten'\n",
       "\\item 'X81.Schoonmaakbedrijven..hoveniers.e.d.'\n",
       "\\item 'X82.Overige.zakelijke.dienstverlening'\n",
       "\\item 'Detailhandel.excl..auto.s..tankstations'\n",
       "\\item 'G.Handel'\n",
       "\\item 'H.Vervoer.en.opslag'\n",
       "\\item 'H.I.J.L.M.N.Totaal.dienstverlening'\n",
       "\\item 'I.Horeca'\n",
       "\\item 'J.Informatie.en.communicatie'\n",
       "\\item 'L.Verhuur.en.handel.van.onroerend.goed'\n",
       "\\item 'M.Specialistische.zakelijke.diensten'\n",
       "\\item 'N.Verhuur.en.overige.zakelijke.diensten'\n",
       "\\item 'Winkels.in.meubels..woninginrichting.alg'\n",
       "\\item 'Winkels.in.non.food..dh.geen.winkel'\n",
       "\\end{enumerate*}\n"
      ],
      "text/markdown": [
       "1. 'Perioden'\n",
       "2. 'X45.Autohandel.en..reparatie'\n",
       "3. 'X451.Autohandel.en..reparatie'\n",
       "4. 'X45111.Import.van.nieuwe.personenauto.s'\n",
       "5. 'X452.Gespecialiseerde.autoreparatie'\n",
       "6. 'X453.Handel.in.auto.onderdelen'\n",
       "7. 'X454.Handel.en.reparatie.van.motorfietsen'\n",
       "8. 'X46.Groothandel.en.handelsbemiddeling'\n",
       "9. 'X462.Groothandel.in.landbouwproducten'\n",
       "10. 'X463.Groothandel.in.voedingsmiddelen'\n",
       "11. 'X464.Groothandel.in.non.food'\n",
       "12. 'X466.Groothandel.in.industriemachines'\n",
       "13. 'X467.Overige.gespecialiseerde.groothandel'\n",
       "14. 'X47.Detailhandel..niet.in.auto.s.'\n",
       "15. 'X471.Supermarkten.en.warenhuizen'\n",
       "16. 'X4711.Supermarkten'\n",
       "17. 'X4711..472.Winkels.in.voedingsmiddelen'\n",
       "18. 'X472.Winkels.in.voedingsmiddelen'\n",
       "19. 'X474.Winkels.in.consumentenelektronica'\n",
       "20. 'X475.Winkels.in.overige.huishoudwaren'\n",
       "21. 'X4752.Winkels.in.doe.het.zelfartikelen'\n",
       "22. 'X47528.Bouwmarkten'\n",
       "23. 'X4759.Winkels.overige.huishoudartikelen'\n",
       "24. 'X476.Winkels.in.recreatieartikelen'\n",
       "25. 'X477.Winkels.in.overige.artikelen'\n",
       "26. 'X4771.Winkels.in.kleding'\n",
       "27. 'X4772.Winkels.in.schoenen.en.lederwaren'\n",
       "28. 'X47741.Drogisterijen'\n",
       "29. 'X479.Detailhandel..geen.winkel.of.markt'\n",
       "30. 'X4791.Postorderbedrijven..webwinkels'\n",
       "31. 'X49.Vervoer.over.land'\n",
       "32. 'X50.Vervoer.over.water'\n",
       "33. 'X51.Vervoer.door.de.lucht'\n",
       "34. 'X52.Opslag..dienstverlening.voor.vervoer'\n",
       "35. 'X53.Post.en.koeriers'\n",
       "36. 'X55.Logiesverstrekking'\n",
       "37. 'X56.Eet..en.drinkgelegenheden'\n",
       "38. 'X58.Uitgeverijen'\n",
       "39. 'X59.Film..en.tv.productie..geluidsopname'\n",
       "40. 'X60.Radio..en.televisieomroepen'\n",
       "41. 'X61.Telecommunicatie'\n",
       "42. 'X62.IT.dienstverlening'\n",
       "43. 'X63.Diensten.op.het.gebied.van.informatie'\n",
       "44. 'X68.Verhuur.en.handel.van.onroerend.goed'\n",
       "45. 'X71.Architecten...ingenieursbureaus.e.d.'\n",
       "46. 'X73.Reclamewezen.en.marktonderzoek'\n",
       "47. 'X74.Design..fotografie..vertaalbureaus'\n",
       "48. 'X79.Reisbureaus..reisorganisatie.en..info'\n",
       "49. 'X80.Beveiligings..en.opsporingsdiensten'\n",
       "50. 'X81.Schoonmaakbedrijven..hoveniers.e.d.'\n",
       "51. 'X82.Overige.zakelijke.dienstverlening'\n",
       "52. 'Detailhandel.excl..auto.s..tankstations'\n",
       "53. 'G.Handel'\n",
       "54. 'H.Vervoer.en.opslag'\n",
       "55. 'H.I.J.L.M.N.Totaal.dienstverlening'\n",
       "56. 'I.Horeca'\n",
       "57. 'J.Informatie.en.communicatie'\n",
       "58. 'L.Verhuur.en.handel.van.onroerend.goed'\n",
       "59. 'M.Specialistische.zakelijke.diensten'\n",
       "60. 'N.Verhuur.en.overige.zakelijke.diensten'\n",
       "61. 'Winkels.in.meubels..woninginrichting.alg'\n",
       "62. 'Winkels.in.non.food..dh.geen.winkel'\n",
       "\n",
       "\n"
      ],
      "text/plain": [
       " [1] \"Perioden\"                                 \n",
       " [2] \"X45.Autohandel.en..reparatie\"             \n",
       " [3] \"X451.Autohandel.en..reparatie\"            \n",
       " [4] \"X45111.Import.van.nieuwe.personenauto.s\"  \n",
       " [5] \"X452.Gespecialiseerde.autoreparatie\"      \n",
       " [6] \"X453.Handel.in.auto.onderdelen\"           \n",
       " [7] \"X454.Handel.en.reparatie.van.motorfietsen\"\n",
       " [8] \"X46.Groothandel.en.handelsbemiddeling\"    \n",
       " [9] \"X462.Groothandel.in.landbouwproducten\"    \n",
       "[10] \"X463.Groothandel.in.voedingsmiddelen\"     \n",
       "[11] \"X464.Groothandel.in.non.food\"             \n",
       "[12] \"X466.Groothandel.in.industriemachines\"    \n",
       "[13] \"X467.Overige.gespecialiseerde.groothandel\"\n",
       "[14] \"X47.Detailhandel..niet.in.auto.s.\"        \n",
       "[15] \"X471.Supermarkten.en.warenhuizen\"         \n",
       "[16] \"X4711.Supermarkten\"                       \n",
       "[17] \"X4711..472.Winkels.in.voedingsmiddelen\"   \n",
       "[18] \"X472.Winkels.in.voedingsmiddelen\"         \n",
       "[19] \"X474.Winkels.in.consumentenelektronica\"   \n",
       "[20] \"X475.Winkels.in.overige.huishoudwaren\"    \n",
       "[21] \"X4752.Winkels.in.doe.het.zelfartikelen\"   \n",
       "[22] \"X47528.Bouwmarkten\"                       \n",
       "[23] \"X4759.Winkels.overige.huishoudartikelen\"  \n",
       "[24] \"X476.Winkels.in.recreatieartikelen\"       \n",
       "[25] \"X477.Winkels.in.overige.artikelen\"        \n",
       "[26] \"X4771.Winkels.in.kleding\"                 \n",
       "[27] \"X4772.Winkels.in.schoenen.en.lederwaren\"  \n",
       "[28] \"X47741.Drogisterijen\"                     \n",
       "[29] \"X479.Detailhandel..geen.winkel.of.markt\"  \n",
       "[30] \"X4791.Postorderbedrijven..webwinkels\"     \n",
       "[31] \"X49.Vervoer.over.land\"                    \n",
       "[32] \"X50.Vervoer.over.water\"                   \n",
       "[33] \"X51.Vervoer.door.de.lucht\"                \n",
       "[34] \"X52.Opslag..dienstverlening.voor.vervoer\" \n",
       "[35] \"X53.Post.en.koeriers\"                     \n",
       "[36] \"X55.Logiesverstrekking\"                   \n",
       "[37] \"X56.Eet..en.drinkgelegenheden\"            \n",
       "[38] \"X58.Uitgeverijen\"                         \n",
       "[39] \"X59.Film..en.tv.productie..geluidsopname\" \n",
       "[40] \"X60.Radio..en.televisieomroepen\"          \n",
       "[41] \"X61.Telecommunicatie\"                     \n",
       "[42] \"X62.IT.dienstverlening\"                   \n",
       "[43] \"X63.Diensten.op.het.gebied.van.informatie\"\n",
       "[44] \"X68.Verhuur.en.handel.van.onroerend.goed\" \n",
       "[45] \"X71.Architecten...ingenieursbureaus.e.d.\" \n",
       "[46] \"X73.Reclamewezen.en.marktonderzoek\"       \n",
       "[47] \"X74.Design..fotografie..vertaalbureaus\"   \n",
       "[48] \"X79.Reisbureaus..reisorganisatie.en..info\"\n",
       "[49] \"X80.Beveiligings..en.opsporingsdiensten\"  \n",
       "[50] \"X81.Schoonmaakbedrijven..hoveniers.e.d.\"  \n",
       "[51] \"X82.Overige.zakelijke.dienstverlening\"    \n",
       "[52] \"Detailhandel.excl..auto.s..tankstations\"  \n",
       "[53] \"G.Handel\"                                 \n",
       "[54] \"H.Vervoer.en.opslag\"                      \n",
       "[55] \"H.I.J.L.M.N.Totaal.dienstverlening\"       \n",
       "[56] \"I.Horeca\"                                 \n",
       "[57] \"J.Informatie.en.communicatie\"             \n",
       "[58] \"L.Verhuur.en.handel.van.onroerend.goed\"   \n",
       "[59] \"M.Specialistische.zakelijke.diensten\"     \n",
       "[60] \"N.Verhuur.en.overige.zakelijke.diensten\"  \n",
       "[61] \"Winkels.in.meubels..woninginrichting.alg\" \n",
       "[62] \"Winkels.in.non.food..dh.geen.winkel\"      "
      ]
     },
     "metadata": {},
     "output_type": "display_data"
    }
   ],
   "source": [
    "##########################\n",
    "# First smooth, if data is missing from the original \"y\" series, replace it\n",
    "# Only take values from 2005 Q1 to 2024Q1\n",
    "\n",
    "# load data\n",
    "dt1 <- read.csv(\"../data/HandelDiensten_raw.csv\", sep = \",\")\n",
    "colnames(dt1)"
   ]
  },
  {
   "cell_type": "code",
   "execution_count": 149,
   "metadata": {
    "vscode": {
     "languageId": "r"
    }
   },
   "outputs": [
    {
     "data": {
      "text/html": [
       "<table class=\"dataframe\">\n",
       "<caption>A Time Series: 25 × 12</caption>\n",
       "<thead>\n",
       "\t<tr><th></th><th scope=col>Jan</th><th scope=col>Feb</th><th scope=col>Mar</th><th scope=col>Apr</th><th scope=col>May</th><th scope=col>Jun</th><th scope=col>Jul</th><th scope=col>Aug</th><th scope=col>Sep</th><th scope=col>Oct</th><th scope=col>Nov</th><th scope=col>Dec</th></tr>\n",
       "</thead>\n",
       "<tbody>\n",
       "\t<tr><th scope=row>2000</th><td> 79.0</td><td> 80.3</td><td> 87.3</td><td> 80.9</td><td> 81.7</td><td> 82.5</td><td> 85.2</td><td> 77.2</td><td> 80.5</td><td> 91.6</td><td> 95.2</td><td>104.9</td></tr>\n",
       "\t<tr><th scope=row>2001</th><td> 86.6</td><td> 82.2</td><td> 95.2</td><td> 86.9</td><td> 91.1</td><td> 90.4</td><td> 88.5</td><td> 81.9</td><td> 85.1</td><td>105.3</td><td>102.1</td><td>106.5</td></tr>\n",
       "\t<tr><th scope=row>2002</th><td> 91.7</td><td> 86.5</td><td> 91.8</td><td> 87.8</td><td> 91.3</td><td> 86.6</td><td> 90.2</td><td> 80.4</td><td> 80.8</td><td> 97.2</td><td> 96.2</td><td>100.1</td></tr>\n",
       "\t<tr><th scope=row>2003</th><td> 91.0</td><td> 84.6</td><td> 87.4</td><td> 84.9</td><td> 86.1</td><td> 77.9</td><td> 83.4</td><td> 71.7</td><td> 79.3</td><td> 92.2</td><td> 85.6</td><td> 96.6</td></tr>\n",
       "\t<tr><th scope=row>2004</th><td> 87.1</td><td> 78.9</td><td> 89.1</td><td> 80.7</td><td> 78.9</td><td> 80.1</td><td> 84.4</td><td> 70.7</td><td> 79.1</td><td> 87.7</td><td> 86.7</td><td> 95.9</td></tr>\n",
       "\t<tr><th scope=row>2005</th><td> 83.1</td><td> 78.0</td><td> 86.3</td><td> 80.1</td><td> 78.6</td><td> 79.3</td><td> 82.5</td><td> 76.0</td><td> 80.7</td><td> 91.1</td><td> 92.2</td><td>101.3</td></tr>\n",
       "\t<tr><th scope=row>2006</th><td> 90.4</td><td> 83.1</td><td> 96.3</td><td> 86.4</td><td> 90.5</td><td> 87.8</td><td> 78.9</td><td> 88.6</td><td> 86.3</td><td> 96.4</td><td> 96.5</td><td>102.9</td></tr>\n",
       "\t<tr><th scope=row>2007</th><td> 95.7</td><td> 87.5</td><td> 98.5</td><td> 84.5</td><td> 93.4</td><td> 92.3</td><td> 92.9</td><td> 88.9</td><td> 89.5</td><td>101.0</td><td> 99.0</td><td>103.5</td></tr>\n",
       "\t<tr><th scope=row>2008</th><td> 96.3</td><td> 90.8</td><td> 96.6</td><td> 94.6</td><td> 92.3</td><td> 88.9</td><td> 95.9</td><td> 89.2</td><td> 88.3</td><td>101.7</td><td> 93.2</td><td> 99.1</td></tr>\n",
       "\t<tr><th scope=row>2009</th><td> 91.5</td><td> 83.7</td><td> 89.4</td><td> 84.4</td><td> 83.6</td><td> 82.1</td><td> 88.7</td><td> 77.3</td><td> 81.3</td><td> 94.4</td><td> 86.1</td><td> 94.6</td></tr>\n",
       "\t<tr><th scope=row>2010</th><td> 83.5</td><td> 78.5</td><td> 88.0</td><td> 80.8</td><td> 82.3</td><td> 77.0</td><td> 82.4</td><td> 80.7</td><td> 79.7</td><td> 88.6</td><td> 84.1</td><td> 89.3</td></tr>\n",
       "\t<tr><th scope=row>2011</th><td> 83.8</td><td> 77.2</td><td> 83.8</td><td> 77.9</td><td> 77.6</td><td> 76.2</td><td> 82.6</td><td> 79.7</td><td> 76.2</td><td> 82.8</td><td> 79.6</td><td> 88.2</td></tr>\n",
       "\t<tr><th scope=row>2012</th><td> 81.3</td><td> 71.2</td><td> 78.7</td><td> 71.3</td><td> 74.0</td><td> 73.3</td><td> 74.2</td><td> 70.7</td><td> 73.0</td><td> 76.4</td><td> 72.6</td><td> 75.4</td></tr>\n",
       "\t<tr><th scope=row>2013</th><td> 74.0</td><td> 66.4</td><td> 71.5</td><td> 67.7</td><td> 70.7</td><td> 65.7</td><td> 67.1</td><td> 69.3</td><td> 63.8</td><td> 74.2</td><td> 69.8</td><td> 74.1</td></tr>\n",
       "\t<tr><th scope=row>2014</th><td> 74.1</td><td> 65.5</td><td> 69.1</td><td> 66.3</td><td> 69.6</td><td> 62.3</td><td> 67.6</td><td> 72.5</td><td> 64.4</td><td> 76.1</td><td> 73.0</td><td> 77.9</td></tr>\n",
       "\t<tr><th scope=row>2015</th><td> 76.9</td><td> 68.4</td><td> 75.1</td><td> 71.5</td><td> 73.5</td><td> 70.2</td><td> 75.7</td><td> 70.5</td><td> 71.2</td><td> 81.1</td><td> 74.6</td><td> 82.7</td></tr>\n",
       "\t<tr><th scope=row>2016</th><td> 76.6</td><td> 73.4</td><td> 80.5</td><td> 77.3</td><td> 75.9</td><td> 77.9</td><td> 76.5</td><td> 78.1</td><td> 72.9</td><td> 85.1</td><td> 81.9</td><td> 89.5</td></tr>\n",
       "\t<tr><th scope=row>2017</th><td> 84.5</td><td> 76.4</td><td> 87.3</td><td> 81.5</td><td> 83.3</td><td> 81.3</td><td> 85.9</td><td> 85.1</td><td> 83.1</td><td> 90.3</td><td> 90.6</td><td> 92.2</td></tr>\n",
       "\t<tr><th scope=row>2018</th><td> 88.8</td><td> 80.1</td><td> 93.9</td><td> 83.8</td><td> 85.5</td><td> 83.0</td><td> 82.3</td><td> 85.4</td><td> 81.7</td><td> 92.7</td><td> 93.8</td><td> 94.5</td></tr>\n",
       "\t<tr><th scope=row>2019</th><td> 91.7</td><td> 85.7</td><td> 96.4</td><td> 91.7</td><td> 96.5</td><td> 87.3</td><td> 92.4</td><td> 93.0</td><td> 86.5</td><td>101.4</td><td> 97.8</td><td>100.4</td></tr>\n",
       "\t<tr><th scope=row>2020</th><td> 95.2</td><td> 93.5</td><td> 88.7</td><td> 86.2</td><td>102.8</td><td>111.4</td><td>114.0</td><td>100.6</td><td>105.2</td><td>113.2</td><td>106.5</td><td> 92.4</td></tr>\n",
       "\t<tr><th scope=row>2021</th><td> 57.1</td><td> 65.1</td><td> 97.3</td><td> 96.8</td><td>118.1</td><td>114.3</td><td>114.3</td><td>106.2</td><td>102.2</td><td>112.0</td><td>112.3</td><td>104.4</td></tr>\n",
       "\t<tr><th scope=row>2022</th><td> 90.6</td><td> 97.4</td><td>112.2</td><td>106.3</td><td>108.8</td><td>106.3</td><td>104.3</td><td> 97.9</td><td>104.0</td><td>109.7</td><td>112.0</td><td>116.3</td></tr>\n",
       "\t<tr><th scope=row>2023</th><td>110.2</td><td>101.5</td><td>118.4</td><td>107.2</td><td>111.9</td><td>109.2</td><td>107.6</td><td>103.5</td><td>100.4</td><td>111.5</td><td>111.8</td><td>111.8</td></tr>\n",
       "\t<tr><th scope=row>2024</th><td>102.3</td><td> 99.8</td><td>107.2</td><td>100.5</td><td>102.9</td><td>100.2</td><td>100.0</td><td> 95.8</td><td>     </td><td>     </td><td>     </td><td>     </td></tr>\n",
       "</tbody>\n",
       "</table>\n"
      ],
      "text/latex": [
       "A Time Series: 25 × 12\n",
       "\\begin{tabular}{r|llllllllllll}\n",
       "  & Jan & Feb & Mar & Apr & May & Jun & Jul & Aug & Sep & Oct & Nov & Dec\\\\\n",
       "\\hline\n",
       "\t2000 &  79.0 &  80.3 &  87.3 &  80.9 &  81.7 &  82.5 &  85.2 &  77.2 &  80.5 &  91.6 &  95.2 & 104.9\\\\\n",
       "\t2001 &  86.6 &  82.2 &  95.2 &  86.9 &  91.1 &  90.4 &  88.5 &  81.9 &  85.1 & 105.3 & 102.1 & 106.5\\\\\n",
       "\t2002 &  91.7 &  86.5 &  91.8 &  87.8 &  91.3 &  86.6 &  90.2 &  80.4 &  80.8 &  97.2 &  96.2 & 100.1\\\\\n",
       "\t2003 &  91.0 &  84.6 &  87.4 &  84.9 &  86.1 &  77.9 &  83.4 &  71.7 &  79.3 &  92.2 &  85.6 &  96.6\\\\\n",
       "\t2004 &  87.1 &  78.9 &  89.1 &  80.7 &  78.9 &  80.1 &  84.4 &  70.7 &  79.1 &  87.7 &  86.7 &  95.9\\\\\n",
       "\t2005 &  83.1 &  78.0 &  86.3 &  80.1 &  78.6 &  79.3 &  82.5 &  76.0 &  80.7 &  91.1 &  92.2 & 101.3\\\\\n",
       "\t2006 &  90.4 &  83.1 &  96.3 &  86.4 &  90.5 &  87.8 &  78.9 &  88.6 &  86.3 &  96.4 &  96.5 & 102.9\\\\\n",
       "\t2007 &  95.7 &  87.5 &  98.5 &  84.5 &  93.4 &  92.3 &  92.9 &  88.9 &  89.5 & 101.0 &  99.0 & 103.5\\\\\n",
       "\t2008 &  96.3 &  90.8 &  96.6 &  94.6 &  92.3 &  88.9 &  95.9 &  89.2 &  88.3 & 101.7 &  93.2 &  99.1\\\\\n",
       "\t2009 &  91.5 &  83.7 &  89.4 &  84.4 &  83.6 &  82.1 &  88.7 &  77.3 &  81.3 &  94.4 &  86.1 &  94.6\\\\\n",
       "\t2010 &  83.5 &  78.5 &  88.0 &  80.8 &  82.3 &  77.0 &  82.4 &  80.7 &  79.7 &  88.6 &  84.1 &  89.3\\\\\n",
       "\t2011 &  83.8 &  77.2 &  83.8 &  77.9 &  77.6 &  76.2 &  82.6 &  79.7 &  76.2 &  82.8 &  79.6 &  88.2\\\\\n",
       "\t2012 &  81.3 &  71.2 &  78.7 &  71.3 &  74.0 &  73.3 &  74.2 &  70.7 &  73.0 &  76.4 &  72.6 &  75.4\\\\\n",
       "\t2013 &  74.0 &  66.4 &  71.5 &  67.7 &  70.7 &  65.7 &  67.1 &  69.3 &  63.8 &  74.2 &  69.8 &  74.1\\\\\n",
       "\t2014 &  74.1 &  65.5 &  69.1 &  66.3 &  69.6 &  62.3 &  67.6 &  72.5 &  64.4 &  76.1 &  73.0 &  77.9\\\\\n",
       "\t2015 &  76.9 &  68.4 &  75.1 &  71.5 &  73.5 &  70.2 &  75.7 &  70.5 &  71.2 &  81.1 &  74.6 &  82.7\\\\\n",
       "\t2016 &  76.6 &  73.4 &  80.5 &  77.3 &  75.9 &  77.9 &  76.5 &  78.1 &  72.9 &  85.1 &  81.9 &  89.5\\\\\n",
       "\t2017 &  84.5 &  76.4 &  87.3 &  81.5 &  83.3 &  81.3 &  85.9 &  85.1 &  83.1 &  90.3 &  90.6 &  92.2\\\\\n",
       "\t2018 &  88.8 &  80.1 &  93.9 &  83.8 &  85.5 &  83.0 &  82.3 &  85.4 &  81.7 &  92.7 &  93.8 &  94.5\\\\\n",
       "\t2019 &  91.7 &  85.7 &  96.4 &  91.7 &  96.5 &  87.3 &  92.4 &  93.0 &  86.5 & 101.4 &  97.8 & 100.4\\\\\n",
       "\t2020 &  95.2 &  93.5 &  88.7 &  86.2 & 102.8 & 111.4 & 114.0 & 100.6 & 105.2 & 113.2 & 106.5 &  92.4\\\\\n",
       "\t2021 &  57.1 &  65.1 &  97.3 &  96.8 & 118.1 & 114.3 & 114.3 & 106.2 & 102.2 & 112.0 & 112.3 & 104.4\\\\\n",
       "\t2022 &  90.6 &  97.4 & 112.2 & 106.3 & 108.8 & 106.3 & 104.3 &  97.9 & 104.0 & 109.7 & 112.0 & 116.3\\\\\n",
       "\t2023 & 110.2 & 101.5 & 118.4 & 107.2 & 111.9 & 109.2 & 107.6 & 103.5 & 100.4 & 111.5 & 111.8 & 111.8\\\\\n",
       "\t2024 & 102.3 &  99.8 & 107.2 & 100.5 & 102.9 & 100.2 & 100.0 &  95.8 &       &       &       &      \\\\\n",
       "\\end{tabular}\n"
      ],
      "text/markdown": [
       "\n",
       "A Time Series: 25 × 12\n",
       "\n",
       "| <!--/--> | Jan | Feb | Mar | Apr | May | Jun | Jul | Aug | Sep | Oct | Nov | Dec |\n",
       "|---|---|---|---|---|---|---|---|---|---|---|---|---|\n",
       "| 2000 |  79.0 |  80.3 |  87.3 |  80.9 |  81.7 |  82.5 |  85.2 |  77.2 |  80.5 |  91.6 |  95.2 | 104.9 |\n",
       "| 2001 |  86.6 |  82.2 |  95.2 |  86.9 |  91.1 |  90.4 |  88.5 |  81.9 |  85.1 | 105.3 | 102.1 | 106.5 |\n",
       "| 2002 |  91.7 |  86.5 |  91.8 |  87.8 |  91.3 |  86.6 |  90.2 |  80.4 |  80.8 |  97.2 |  96.2 | 100.1 |\n",
       "| 2003 |  91.0 |  84.6 |  87.4 |  84.9 |  86.1 |  77.9 |  83.4 |  71.7 |  79.3 |  92.2 |  85.6 |  96.6 |\n",
       "| 2004 |  87.1 |  78.9 |  89.1 |  80.7 |  78.9 |  80.1 |  84.4 |  70.7 |  79.1 |  87.7 |  86.7 |  95.9 |\n",
       "| 2005 |  83.1 |  78.0 |  86.3 |  80.1 |  78.6 |  79.3 |  82.5 |  76.0 |  80.7 |  91.1 |  92.2 | 101.3 |\n",
       "| 2006 |  90.4 |  83.1 |  96.3 |  86.4 |  90.5 |  87.8 |  78.9 |  88.6 |  86.3 |  96.4 |  96.5 | 102.9 |\n",
       "| 2007 |  95.7 |  87.5 |  98.5 |  84.5 |  93.4 |  92.3 |  92.9 |  88.9 |  89.5 | 101.0 |  99.0 | 103.5 |\n",
       "| 2008 |  96.3 |  90.8 |  96.6 |  94.6 |  92.3 |  88.9 |  95.9 |  89.2 |  88.3 | 101.7 |  93.2 |  99.1 |\n",
       "| 2009 |  91.5 |  83.7 |  89.4 |  84.4 |  83.6 |  82.1 |  88.7 |  77.3 |  81.3 |  94.4 |  86.1 |  94.6 |\n",
       "| 2010 |  83.5 |  78.5 |  88.0 |  80.8 |  82.3 |  77.0 |  82.4 |  80.7 |  79.7 |  88.6 |  84.1 |  89.3 |\n",
       "| 2011 |  83.8 |  77.2 |  83.8 |  77.9 |  77.6 |  76.2 |  82.6 |  79.7 |  76.2 |  82.8 |  79.6 |  88.2 |\n",
       "| 2012 |  81.3 |  71.2 |  78.7 |  71.3 |  74.0 |  73.3 |  74.2 |  70.7 |  73.0 |  76.4 |  72.6 |  75.4 |\n",
       "| 2013 |  74.0 |  66.4 |  71.5 |  67.7 |  70.7 |  65.7 |  67.1 |  69.3 |  63.8 |  74.2 |  69.8 |  74.1 |\n",
       "| 2014 |  74.1 |  65.5 |  69.1 |  66.3 |  69.6 |  62.3 |  67.6 |  72.5 |  64.4 |  76.1 |  73.0 |  77.9 |\n",
       "| 2015 |  76.9 |  68.4 |  75.1 |  71.5 |  73.5 |  70.2 |  75.7 |  70.5 |  71.2 |  81.1 |  74.6 |  82.7 |\n",
       "| 2016 |  76.6 |  73.4 |  80.5 |  77.3 |  75.9 |  77.9 |  76.5 |  78.1 |  72.9 |  85.1 |  81.9 |  89.5 |\n",
       "| 2017 |  84.5 |  76.4 |  87.3 |  81.5 |  83.3 |  81.3 |  85.9 |  85.1 |  83.1 |  90.3 |  90.6 |  92.2 |\n",
       "| 2018 |  88.8 |  80.1 |  93.9 |  83.8 |  85.5 |  83.0 |  82.3 |  85.4 |  81.7 |  92.7 |  93.8 |  94.5 |\n",
       "| 2019 |  91.7 |  85.7 |  96.4 |  91.7 |  96.5 |  87.3 |  92.4 |  93.0 |  86.5 | 101.4 |  97.8 | 100.4 |\n",
       "| 2020 |  95.2 |  93.5 |  88.7 |  86.2 | 102.8 | 111.4 | 114.0 | 100.6 | 105.2 | 113.2 | 106.5 |  92.4 |\n",
       "| 2021 |  57.1 |  65.1 |  97.3 |  96.8 | 118.1 | 114.3 | 114.3 | 106.2 | 102.2 | 112.0 | 112.3 | 104.4 |\n",
       "| 2022 |  90.6 |  97.4 | 112.2 | 106.3 | 108.8 | 106.3 | 104.3 |  97.9 | 104.0 | 109.7 | 112.0 | 116.3 |\n",
       "| 2023 | 110.2 | 101.5 | 118.4 | 107.2 | 111.9 | 109.2 | 107.6 | 103.5 | 100.4 | 111.5 | 111.8 | 111.8 |\n",
       "| 2024 | 102.3 |  99.8 | 107.2 | 100.5 | 102.9 | 100.2 | 100.0 |  95.8 | <!----> | <!----> | <!----> | <!----> |\n",
       "\n"
      ],
      "text/plain": [
       "     Jan   Feb   Mar   Apr   May   Jun   Jul   Aug   Sep   Oct   Nov   Dec  \n",
       "2000  79.0  80.3  87.3  80.9  81.7  82.5  85.2  77.2  80.5  91.6  95.2 104.9\n",
       "2001  86.6  82.2  95.2  86.9  91.1  90.4  88.5  81.9  85.1 105.3 102.1 106.5\n",
       "2002  91.7  86.5  91.8  87.8  91.3  86.6  90.2  80.4  80.8  97.2  96.2 100.1\n",
       "2003  91.0  84.6  87.4  84.9  86.1  77.9  83.4  71.7  79.3  92.2  85.6  96.6\n",
       "2004  87.1  78.9  89.1  80.7  78.9  80.1  84.4  70.7  79.1  87.7  86.7  95.9\n",
       "2005  83.1  78.0  86.3  80.1  78.6  79.3  82.5  76.0  80.7  91.1  92.2 101.3\n",
       "2006  90.4  83.1  96.3  86.4  90.5  87.8  78.9  88.6  86.3  96.4  96.5 102.9\n",
       "2007  95.7  87.5  98.5  84.5  93.4  92.3  92.9  88.9  89.5 101.0  99.0 103.5\n",
       "2008  96.3  90.8  96.6  94.6  92.3  88.9  95.9  89.2  88.3 101.7  93.2  99.1\n",
       "2009  91.5  83.7  89.4  84.4  83.6  82.1  88.7  77.3  81.3  94.4  86.1  94.6\n",
       "2010  83.5  78.5  88.0  80.8  82.3  77.0  82.4  80.7  79.7  88.6  84.1  89.3\n",
       "2011  83.8  77.2  83.8  77.9  77.6  76.2  82.6  79.7  76.2  82.8  79.6  88.2\n",
       "2012  81.3  71.2  78.7  71.3  74.0  73.3  74.2  70.7  73.0  76.4  72.6  75.4\n",
       "2013  74.0  66.4  71.5  67.7  70.7  65.7  67.1  69.3  63.8  74.2  69.8  74.1\n",
       "2014  74.1  65.5  69.1  66.3  69.6  62.3  67.6  72.5  64.4  76.1  73.0  77.9\n",
       "2015  76.9  68.4  75.1  71.5  73.5  70.2  75.7  70.5  71.2  81.1  74.6  82.7\n",
       "2016  76.6  73.4  80.5  77.3  75.9  77.9  76.5  78.1  72.9  85.1  81.9  89.5\n",
       "2017  84.5  76.4  87.3  81.5  83.3  81.3  85.9  85.1  83.1  90.3  90.6  92.2\n",
       "2018  88.8  80.1  93.9  83.8  85.5  83.0  82.3  85.4  81.7  92.7  93.8  94.5\n",
       "2019  91.7  85.7  96.4  91.7  96.5  87.3  92.4  93.0  86.5 101.4  97.8 100.4\n",
       "2020  95.2  93.5  88.7  86.2 102.8 111.4 114.0 100.6 105.2 113.2 106.5  92.4\n",
       "2021  57.1  65.1  97.3  96.8 118.1 114.3 114.3 106.2 102.2 112.0 112.3 104.4\n",
       "2022  90.6  97.4 112.2 106.3 108.8 106.3 104.3  97.9 104.0 109.7 112.0 116.3\n",
       "2023 110.2 101.5 118.4 107.2 111.9 109.2 107.6 103.5 100.4 111.5 111.8 111.8\n",
       "2024 102.3  99.8 107.2 100.5 102.9 100.2 100.0  95.8                        "
      ]
     },
     "metadata": {},
     "output_type": "display_data"
    }
   ],
   "source": [
    "\n",
    "# series1 <- ts(dt1[\"Winkels.in.meubels..woninginrichting.alg\"], frequency = 12, start=c(2000,1))\n",
    "# series1 <- ts(dt1[\"X4791.Postorderbedrijven..webwinkels\"], frequency = 12, start=c(2000,1))\n",
    "series1 <- ts(dt1['Winkels.in.meubels..woninginrichting.alg'], frequency = 12, start=c(2000,1))\n",
    "series1"
   ]
  },
  {
   "cell_type": "code",
   "execution_count": 150,
   "metadata": {
    "vscode": {
     "languageId": "r"
    }
   },
   "outputs": [],
   "source": [
    "#########################\n",
    "# Which model to use\n",
    "#########################"
   ]
  },
  {
   "cell_type": "code",
   "execution_count": 155,
   "metadata": {
    "vscode": {
     "languageId": "r"
    }
   },
   "outputs": [
    {
     "name": "stdout",
     "output_type": "stream",
     "text": [
      "[1] \"Has Trend\"\n",
      "[1] \"Use Multiplicative\"\n",
      "[1] \"Use Seasonal\"\n"
     ]
    }
   ],
   "source": [
    "# Tests for Seasonality\n",
    "library(seastests)\n",
    "library(car)\n",
    "library(lmtest)\n",
    "\n",
    "###########################\n",
    "# Trend or not?\n",
    "###########################\n",
    "\n",
    "p_value <- notrend_test(series1)$p.value\n",
    "\n",
    "if (p_value > 0.05) {\n",
    "  print(\"Has Trend\")\n",
    "  } else {print (\"No Trend\")}\n",
    "\n",
    "###########################\n",
    "# Additive or multiplictive?\n",
    "###########################\n",
    "\n",
    "decompose_series1 <- decompose(series1, \"multiplicative\")\n",
    "decompose_series1_multiplicative <- decompose_series1$random\n",
    "muladd_mul <- sqrt(mean(abs(decompose_series1_multiplicative)^2, na.rm=TRUE))\n",
    "\n",
    "decompose_series1 <- decompose(series1, \"additive\")\n",
    "decompose_series1_additive <- decompose_series1$random\n",
    "muladd_add <- sqrt(mean(abs(decompose_series1_additive)^2, na.rm=TRUE))\n",
    "\n",
    "if (muladd_mul < muladd_add) {\n",
    "  print(\"Use Multiplicative\")\n",
    "  } else {print (\"Use Additive\")}\n",
    "\n",
    "###########################\n",
    "# Seasonnal or not\n",
    "###########################\n",
    "\n",
    "season_Check <- isSeasonal(series1)\n",
    "\n",
    "if (season_Check == TRUE) {\n",
    "  print(\"Use Seasonal\")\n",
    "  } else {print (\"Use Non-Seasonal\")}\n",
    "\n"
   ]
  },
  {
   "cell_type": "code",
   "execution_count": 173,
   "metadata": {
    "vscode": {
     "languageId": "r"
    }
   },
   "outputs": [
    {
     "data": {
      "image/png": "[encoded data removed]",
      "text/plain": [
       "Plot with title \"Forecasts from ETS(A,N,A)\""
      ]
     },
     "metadata": {
      "image/png": {
       "height": 420,
       "width": 420
      }
     },
     "output_type": "display_data"
    }
   ],
   "source": [
    "#ets(bonds, model=\"AAN\", damped=TRUE)\n",
    "#ets(usnetelec, model=\"MMN\",damped=TRUE)\n",
    "#ets(ukcars, model=\"ANA\")#\n",
    "#ets(visitors, model=\"MAM\")\n",
    "\n",
    "fit <- ets(series1, model=\"ANA\", damped=FALSE)\n",
    "#fit <- ets(series1, model=\"ANA\", damped=FALSE)\n",
    "plot(forecast(fit))"
   ]
  },
  {
   "cell_type": "code",
   "execution_count": null,
   "metadata": {
    "vscode": {
     "languageId": "r"
    }
   },
   "outputs": [],
   "source": []
  },
  {
   "cell_type": "code",
   "execution_count": null,
   "metadata": {
    "vscode": {
     "languageId": "r"
    }
   },
   "outputs": [],
   "source": []
  },
  {
   "cell_type": "code",
   "execution_count": null,
   "metadata": {
    "vscode": {
     "languageId": "r"
    }
   },
   "outputs": [],
   "source": []
  },
  {
   "cell_type": "code",
   "execution_count": 152,
   "metadata": {
    "vscode": {
     "languageId": "r"
    }
   },
   "outputs": [
    {
     "data": {
      "image/png": "[encoded data removed]",
      "text/plain": [
       "plot without title"
      ]
     },
     "metadata": {
      "image/png": {
       "height": 420,
       "width": 420
      }
     },
     "output_type": "display_data"
    },
    {
     "data": {
      "image/png": "[encoded data removed]",
      "text/plain": [
       "plot without title"
      ]
     },
     "metadata": {
      "image/png": {
       "height": 420,
       "width": 420
      }
     },
     "output_type": "display_data"
    }
   ],
   "source": [
    "trend_series1 = ma(series1, order = 12, centre = T)\n",
    "plot(as.ts(series1))\n",
    "lines(trend_series1)\n",
    "plot(as.ts(trend_series1))"
   ]
  },
  {
   "cell_type": "code",
   "execution_count": 127,
   "metadata": {
    "vscode": {
     "languageId": "r"
    }
   },
   "outputs": [
    {
     "data": {
      "image/png": "[encoded data removed]",
      "text/plain": [
       "plot without title"
      ]
     },
     "metadata": {
      "image/png": {
       "height": 420,
       "width": 420
      }
     },
     "output_type": "display_data"
    }
   ],
   "source": [
    "detrend_series1 = series1 - trend_series1\n",
    "plot(as.ts(detrend_series1))"
   ]
  },
  {
   "cell_type": "code",
   "execution_count": 136,
   "metadata": {
    "vscode": {
     "languageId": "r"
    }
   },
   "outputs": [
    {
     "data": {
      "text/html": [
       "284.017849463449"
      ],
      "text/latex": [
       "284.017849463449"
      ],
      "text/markdown": [
       "284.017849463449"
      ],
      "text/plain": [
       "[1] 284.0178"
      ]
     },
     "metadata": {},
     "output_type": "display_data"
    },
    {
     "data": {
      "text/html": [
       "1.0014409090579"
      ],
      "text/latex": [
       "1.0014409090579"
      ],
      "text/markdown": [
       "1.0014409090579"
      ],
      "text/plain": [
       "[1] 1.001441"
      ]
     },
     "metadata": {},
     "output_type": "display_data"
    },
    {
     "data": {
      "image/png": "[encoded data removed]",
      "text/plain": [
       "plot without title"
      ]
     },
     "metadata": {
      "image/png": {
       "height": 420,
       "width": 420
      }
     },
     "output_type": "display_data"
    }
   ],
   "source": [
    "decompose_series1 <- decompose(series1, \"multiplicative\")\n",
    "plot(decompose_series1$random)\n",
    "decompose_series1_multiplicative <- decompose_series1$random\n",
    "sum(abs(decompose_series1_multiplicative), na.rm=TRUE)\n",
    "\n",
    "sqrt(mean(abs(decompose_series1_multiplicative)^2, na.rm=TRUE))\n"
   ]
  },
  {
   "cell_type": "code",
   "execution_count": 137,
   "metadata": {
    "vscode": {
     "languageId": "r"
    }
   },
   "outputs": [
    {
     "data": {
      "text/html": [
       "841.346472423511"
      ],
      "text/latex": [
       "841.346472423511"
      ],
      "text/markdown": [
       "841.346472423511"
      ],
      "text/plain": [
       "[1] 841.3465"
      ]
     },
     "metadata": {},
     "output_type": "display_data"
    },
    {
     "data": {
      "text/html": [
       "4.94191999770242"
      ],
      "text/latex": [
       "4.94191999770242"
      ],
      "text/markdown": [
       "4.94191999770242"
      ],
      "text/plain": [
       "[1] 4.94192"
      ]
     },
     "metadata": {},
     "output_type": "display_data"
    },
    {
     "data": {
      "image/png": "[encoded data removed]",
      "text/plain": [
       "plot without title"
      ]
     },
     "metadata": {
      "image/png": {
       "height": 420,
       "width": 420
      }
     },
     "output_type": "display_data"
    }
   ],
   "source": [
    "decompose_series1 <- decompose(series1, \"additive\")\n",
    "plot(decompose_series1$random)\n",
    "decompose_series1_additive <- decompose_series1$random\n",
    "sum(abs(decompose_series1_additive), na.rm=TRUE)\n",
    "sqrt(mean(abs(decompose_series1_additive)^2, na.rm=TRUE))"
   ]
  },
  {
   "cell_type": "code",
   "execution_count": 130,
   "metadata": {
    "vscode": {
     "languageId": "r"
    }
   },
   "outputs": [
    {
     "data": {
      "image/png": "[encoded data removed]",
      "text/plain": [
       "plot without title"
      ]
     },
     "metadata": {
      "image/png": {
       "height": 420,
       "width": 420
      }
     },
     "output_type": "display_data"
    }
   ],
   "source": [
    "decompose_series1 <- decompose(series1, \"additive\")\n",
    "plot(decompose_series1)"
   ]
  },
  {
   "cell_type": "code",
   "execution_count": null,
   "metadata": {
    "vscode": {
     "languageId": "r"
    }
   },
   "outputs": [],
   "source": []
  },
  {
   "cell_type": "code",
   "execution_count": null,
   "metadata": {
    "vscode": {
     "languageId": "r"
    }
   },
   "outputs": [],
   "source": []
  },
  {
   "cell_type": "code",
   "execution_count": null,
   "metadata": {
    "vscode": {
     "languageId": "r"
    }
   },
   "outputs": [],
   "source": []
  },
  {
   "cell_type": "code",
   "execution_count": 131,
   "metadata": {
    "vscode": {
     "languageId": "r"
    }
   },
   "outputs": [
    {
     "data": {
      "image/png": "[encoded data removed]",
      "text/plain": [
       "Plot with title \"Forecasts from ETS(A,N,A)\""
      ]
     },
     "metadata": {
      "image/png": {
       "height": 420,
       "width": 420
      }
     },
     "output_type": "display_data"
    }
   ],
   "source": [
    "\n",
    "#ets(bonds, model=\"AAN\", damped=TRUE)\n",
    "#ets(usnetelec, model=\"MMN\",damped=TRUE)\n",
    "#ets(ukcars, model=\"ANA\")\n",
    "#ets(visitors, model=\"MAM\")\n",
    "\n",
    "fit <- ets(series1, model=\"ANA\", damped=FALSE)\n",
    "plot(forecast(fit))"
   ]
  },
  {
   "cell_type": "code",
   "execution_count": 132,
   "metadata": {
    "vscode": {
     "languageId": "r"
    }
   },
   "outputs": [
    {
     "data": {
      "text/plain": [
       "         Point Forecast    Lo 80    Hi 80    Lo 95    Hi 95\n",
       "Sep 2024       96.10789 89.68562 102.5302 86.28588 105.9299\n",
       "Oct 2024      107.17511 99.45034 114.8999 95.36109 118.9891\n",
       "Nov 2024      104.61236 95.77500 113.4497 91.09678 118.1279\n",
       "Dec 2024      109.22961 99.40487 119.0544 94.20396 124.2553\n",
       "Jan 2025       99.91416 89.19258 110.6357 83.51692 116.3114\n",
       "Feb 2025       94.28109 82.73211 105.8301 76.61845 111.9437\n",
       "Mar 2025      103.58050 91.25956 115.9014 84.73724 122.4238\n",
       "Apr 2025       97.55419 84.50688 110.6015 77.60005 117.5083\n",
       "May 2025      100.99249 87.25717 114.7278 79.98613 121.9989\n",
       "Jun 2025       98.51803 84.12755 112.9085 76.50970 120.5264\n",
       "Jul 2025      100.53118 85.51411 115.5483 77.56455 123.4978\n",
       "Aug 2025       95.93469 80.31219 111.5572 72.04214 119.8272\n",
       "Sep 2025       96.10789 79.90637 112.3094 71.32981 120.8860\n",
       "Oct 2025      107.17511 90.41457 123.9357 81.54208 132.8082\n",
       "Nov 2025      104.61236 87.31084 121.9139 78.15197 131.0727\n",
       "Dec 2025      109.22961 91.40353 127.0557 81.96697 136.4923\n",
       "Jan 2026       99.91416 81.57852 118.2498 71.87221 127.9561\n",
       "Feb 2026       94.28109 75.44967 113.1125 65.48091 123.0813\n",
       "Mar 2026      103.58050 84.26602 122.8950 74.04155 133.1195\n",
       "Apr 2026       97.55419 77.76844 117.3399 67.29450 127.8139\n",
       "May 2026      100.99249 80.74644 121.2385 70.02882 131.9562\n",
       "Jun 2026       98.51803 77.82191 119.2142 66.86605 130.1700\n",
       "Jul 2026      100.53118 79.39458 121.6678 68.20554 132.8568\n",
       "Aug 2026       95.93469 74.36373 117.5056 62.94476 128.9246"
      ]
     },
     "metadata": {},
     "output_type": "display_data"
    }
   ],
   "source": [
    "forecast(fit)"
   ]
  },
  {
   "cell_type": "code",
   "execution_count": null,
   "metadata": {
    "vscode": {
     "languageId": "r"
    }
   },
   "outputs": [],
   "source": []
  },
  {
   "cell_type": "code",
   "execution_count": null,
   "metadata": {
    "vscode": {
     "languageId": "r"
    }
   },
   "outputs": [],
   "source": []
  }
 ],
 "metadata": {
  "kernelspec": {
   "display_name": "R",
   "language": "R",
   "name": "ir"
  },
  "language_info": {
   "codemirror_mode": "r",
   "file_extension": ".r",
   "mimetype": "text/x-r-source",
   "name": "R",
   "pygments_lexer": "r",
   "version": "4.4.1"
  }
 },
 "nbformat": 4,
 "nbformat_minor": 2
}
